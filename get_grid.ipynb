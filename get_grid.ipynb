{
 "cells": [
  {
   "cell_type": "code",
   "execution_count": null,
   "id": "5880653c-0fa5-47d5-a7b9-d23f05270884",
   "metadata": {},
   "outputs": [],
   "source": [
    "from safetensors import safe_open\n",
    "import torch\n",
    "import quiptools_cuda"
   ]
  },
  {
   "cell_type": "code",
   "execution_count": null,
   "id": "ea1f9148-028a-4fce-8150-184a1c84f8f5",
   "metadata": {},
   "outputs": [],
   "source": [
    "import grid\n",
    "\n",
    "packed_abs_grid = grid.get_packed_abs_grid()"
   ]
  },
  {
   "cell_type": "code",
   "execution_count": null,
   "id": "a7109aa5-5e49-4dbe-ad2e-fe039d1edb98",
   "metadata": {},
   "outputs": [],
   "source": [
    "tensors = {}\n",
    "with safe_open(\"model.safetensors\", framework=\"pt\", device=\"cpu\") as f:\n",
    "   for key in f.keys():\n",
    "       tensors[key] = f.get_tensor(key)"
   ]
  },
  {
   "cell_type": "code",
   "execution_count": null,
   "id": "49c1aab5-2f8c-4738-85cd-029013d11d0d",
   "metadata": {},
   "outputs": [],
   "source": [
    "for key in tensors.keys():\n",
    "    if 'model.layers.0.mlp.down_proj' not in key:\n",
    "        continue\n",
    "    print(key)"
   ]
  },
  {
   "cell_type": "code",
   "execution_count": null,
   "id": "424b3a8a-8ef3-4eab-8843-c94451b82b39",
   "metadata": {},
   "outputs": [],
   "source": [
    "grid = set()"
   ]
  },
  {
   "cell_type": "code",
   "execution_count": null,
   "id": "9d75116f-292a-435d-9409-889a2701d195",
   "metadata": {},
   "outputs": [],
   "source": [
    "for layer_idx in range(32):\n",
    "    PREFIX = f'model.layers.{layer_idx}.mlp.down_proj.'\n",
    "\n",
    "    print(PREFIX)\n",
    "    \n",
    "    Qidxs = tensors[f'{PREFIX}Qidxs']\n",
    "    SU = tensors[f'{PREFIX}SU']\n",
    "    SV = tensors[f'{PREFIX}SV'] * tensors[f'{PREFIX}Wscale']\n",
    "    codebook_id = tensors[f'{PREFIX}codebook_id']\n",
    "    assert codebook_id.item() == 7\n",
    "    \n",
    "    n, m = len(SU), len(SV)\n",
    "    \n",
    "    W = quiptools_cuda.decompress_packed_e8p(\n",
    "        Qidxs.view(m // 16, n // 64, 8, 4).cuda(),\n",
    "        packed_abs_grid.cuda(),\n",
    "    )\n",
    "    \n",
    "    grid.update((tuple(a) for a in W.reshape(-1, 8).cpu().numpy()))\n",
    "    \n",
    "    print(len(grid), 2 ** 16)\n",
    "\n",
    "    if len(grid) == 2 ** 16:\n",
    "        break"
   ]
  },
  {
   "cell_type": "code",
   "execution_count": null,
   "id": "f514d2a1-3f70-4ee4-a883-1b18ef414eed",
   "metadata": {},
   "outputs": [],
   "source": [
    "grid_by_idx = sorted(grid)\n",
    "grid_tensor = torch.tensor(grid_by_idx)"
   ]
  },
  {
   "cell_type": "code",
   "execution_count": null,
   "id": "0160af92-1aee-4633-989c-b56f3bbf7c71",
   "metadata": {},
   "outputs": [],
   "source": [
    "torch.save(grid_tensor, 'e8p_grid.pt')"
   ]
  }
 ],
 "metadata": {
  "kernelspec": {
   "display_name": "Python 3 (ipykernel)",
   "language": "python",
   "name": "python3"
  },
  "language_info": {
   "codemirror_mode": {
    "name": "ipython",
    "version": 3
   },
   "file_extension": ".py",
   "mimetype": "text/x-python",
   "name": "python",
   "nbconvert_exporter": "python",
   "pygments_lexer": "ipython3",
   "version": "3.11.10"
  }
 },
 "nbformat": 4,
 "nbformat_minor": 5
}
