{
 "cells": [
  {
   "cell_type": "code",
   "execution_count": 1,
   "metadata": {},
   "outputs": [],
   "source": [
    "from aqlm import QuantizedLinear\n",
    "from aqlm.utils import _dequantize_weight, unpack_int_data"
   ]
  },
  {
   "cell_type": "code",
   "execution_count": 2,
   "metadata": {},
   "outputs": [],
   "source": [
    "SIZE = 4096\n",
    "\n",
    "layer = QuantizedLinear(\n",
    "    in_features=SIZE,\n",
    "    out_features=SIZE * 3,\n",
    "    in_group_size=8,\n",
    "    out_group_size=1,\n",
    "    num_codebooks=2,\n",
    "    nbits_per_codebook=8,\n",
    "    bias=False,\n",
    ")"
   ]
  },
  {
   "cell_type": "code",
   "execution_count": 3,
   "metadata": {},
   "outputs": [],
   "source": [
    "reference_weight = _dequantize_weight(\n",
    "    unpack_int_data(layer.codes, 8),\n",
    "    layer.codebooks,\n",
    "    layer.scales,\n",
    ")"
   ]
  },
  {
   "cell_type": "code",
   "execution_count": 4,
   "metadata": {},
   "outputs": [],
   "source": [
    "import torch\n",
    "\n",
    "input = torch.rand((1, 1, SIZE))"
   ]
  },
  {
   "cell_type": "code",
   "execution_count": 5,
   "metadata": {},
   "outputs": [],
   "source": [
    "import torch\n",
    "torch.ops.load_library(\"/Users/blacksamorez/reps/AQLM/inference_lib/src/aqlm/inference_kernels/cmake-out/libaqlm.dylib\")\n",
    "\n",
    "reference = input @ reference_weight.T\n",
    "test = torch.ops.aqlm.code2x8_lut_matmat(\n",
    "    input,\n",
    "    torch.permute(layer.codes, (1, 0, 2)).contiguous(),\n",
    "    layer.codebooks,\n",
    "    layer.scales,\n",
    "    layer.bias,\n",
    ")\n",
    "\n",
    "torch.testing.assert_close(\n",
    "    test,\n",
    "    reference,\n",
    "    atol=0.01,\n",
    "    rtol=1e-3,\n",
    ")"
   ]
  },
  {
   "cell_type": "code",
   "execution_count": 6,
   "metadata": {},
   "outputs": [
    {
     "name": "stdout",
     "output_type": "stream",
     "text": [
      "CPU times: user 89 ms, sys: 32.9 ms, total: 122 ms\n",
      "Wall time: 22.3 ms\n"
     ]
    }
   ],
   "source": [
    "%%time\n",
    "\n",
    "for i in range(10):\n",
    "    input @ reference_weight.T"
   ]
  },
  {
   "cell_type": "code",
   "execution_count": 7,
   "metadata": {},
   "outputs": [
    {
     "name": "stdout",
     "output_type": "stream",
     "text": [
      "CPU times: user 1.33 s, sys: 466 ms, total: 1.8 s\n",
      "Wall time: 329 ms\n"
     ]
    }
   ],
   "source": [
    "%%time\n",
    "\n",
    "for i in range(10):\n",
    "    torch.ops.aqlm.code2x8_lut_matmat(\n",
    "        input,\n",
    "        torch.permute(layer.codes, (1, 0, 2)).contiguous(),\n",
    "        layer.codebooks,\n",
    "        layer.scales,\n",
    "        layer.bias,\n",
    "    )"
   ]
  },
  {
   "cell_type": "code",
   "execution_count": null,
   "metadata": {},
   "outputs": [],
   "source": []
  }
 ],
 "metadata": {
  "kernelspec": {
   "display_name": "Python 3",
   "language": "python",
   "name": "python3"
  },
  "language_info": {
   "codemirror_mode": {
    "name": "ipython",
    "version": 3
   },
   "file_extension": ".py",
   "mimetype": "text/x-python",
   "name": "python",
   "nbconvert_exporter": "python",
   "pygments_lexer": "ipython3",
   "version": "3.10.14"
  }
 },
 "nbformat": 4,
 "nbformat_minor": 2
}
