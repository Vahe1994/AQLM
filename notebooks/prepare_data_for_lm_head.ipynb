{
 "cells": [
  {
   "cell_type": "code",
   "execution_count": 1,
   "id": "43871e67",
   "metadata": {},
   "outputs": [
    {
     "name": "stdout",
     "output_type": "stream",
     "text": [
      "env: CUDA_VISIBLE_DEVICES=6\n",
      "env: TRANSFORMERS_CACHE=/mnt/LLM/hub\n",
      "env: HF_HOME=/mnt/LLM/\n",
      "env: OMP_NUM_THREADS=16\n"
     ]
    },
    {
     "name": "stderr",
     "output_type": "stream",
     "text": [
      "/home/vahe1994/anaconda3/lib/python3.9/site-packages/transformers/utils/hub.py:128: FutureWarning: Using `TRANSFORMERS_CACHE` is deprecated and will be removed in v5 of Transformers. Use `HF_HOME` instead.\n",
      "  warnings.warn(\n",
      "<frozen importlib._bootstrap>:228: RuntimeWarning: pyarrow.lib.IpcReadOptions size changed, may indicate binary incompatibility. Expected 96 from C header, got 104 from PyObject\n",
      "<frozen importlib._bootstrap>:228: RuntimeWarning: pyarrow.lib.Tensor size changed, may indicate binary incompatibility. Expected 64 from C header, got 80 from PyObject\n",
      "<frozen importlib._bootstrap>:228: RuntimeWarning: pyarrow.lib.NativeFile size changed, may indicate binary incompatibility. Expected 96 from C header, got 104 from PyObject\n",
      "<frozen importlib._bootstrap>:228: RuntimeWarning: pyarrow.lib.BufferedInputStream size changed, may indicate binary incompatibility. Expected 96 from C header, got 104 from PyObject\n",
      "<frozen importlib._bootstrap>:228: RuntimeWarning: pyarrow.lib.BufferedOutputStream size changed, may indicate binary incompatibility. Expected 96 from C header, got 104 from PyObject\n",
      "<frozen importlib._bootstrap>:228: RuntimeWarning: pyarrow.lib.CompressedInputStream size changed, may indicate binary incompatibility. Expected 96 from C header, got 104 from PyObject\n",
      "<frozen importlib._bootstrap>:228: RuntimeWarning: pyarrow.lib.CompressedOutputStream size changed, may indicate binary incompatibility. Expected 96 from C header, got 104 from PyObject\n",
      "<frozen importlib._bootstrap>:228: RuntimeWarning: pyarrow._fs.FileInfo size changed, may indicate binary incompatibility. Expected 64 from C header, got 88 from PyObject\n",
      "<frozen importlib._bootstrap>:228: RuntimeWarning: pyarrow._fs.FileSelector size changed, may indicate binary incompatibility. Expected 48 from C header, got 72 from PyObject\n"
     ]
    }
   ],
   "source": [
    "%env CUDA_VISIBLE_DEVICES=6\n",
    "%env TRANSFORMERS_CACHE=/mnt/LLM/hub\n",
    "%env HF_HOME=/mnt/LLM/\n",
    "%env OMP_NUM_THREADS=16\n",
    "%load_ext autoreload\n",
    "%autoreload 2\n",
    "\n",
    "import os\n",
    "import sys\n",
    "sys.path.insert(0, '..')\n",
    "\n",
    "import time\n",
    "import random\n",
    "from tqdm.auto import trange, tqdm\n",
    "import numpy as np\n",
    "import ipynbname  # pip install ipynbname\n",
    "\n",
    "import torch\n",
    "import torch.nn as nn\n",
    "import torch.nn.functional as F\n",
    "import transformers\n",
    "\n",
    "from src.aq import QuantizedWeight, QuantizedLinear\n",
    "from src.modelutils import get_model\n",
    "from src.datautils import get_loaders\n",
    "from convert_legacy_model_format import load_quantized_model_with_old_pickle\n",
    "\n",
    "\n",
    "torch.set_num_threads(16)\n",
    "torch.backends.cudnn.allow_tf32 = False\n",
    "torch.backends.cuda.matmul.allow_tf32 = False\n",
    "device = torch.device('cuda' if torch.cuda.is_available() else 'cpu')\n"
   ]
  },
  {
   "cell_type": "code",
   "execution_count": 7,
   "id": "dbf7e1f4",
   "metadata": {},
   "outputs": [],
   "source": [
    "class args:\n",
    "    model_path = \"TinyLlama/TinyLlama-1.1B-intermediate-step-1431k-3T\"\n",
    "    model_dtype = 'bfloat16'\n",
    "    xtx_dtype = torch.float64\n",
    "    model_seqlen = 2048  # can be 2048 for 1.1B, 4096-8192 for larger models\n",
    "    device_map = 'auto'\n",
    "    \n",
    "    dataset = 'pajama'\n",
    "    total_nsamples = 2560\n",
    "    seed = 42\n",
    "    \n",
    "    batch_size = 16384\n",
    "    x_save_path = None\n",
    "    xtx_save_path = \"./tinyllama_xtx_seqlen2048_2560samples.pth\""
   ]
  },
  {
   "cell_type": "code",
   "execution_count": 9,
   "id": "4f65f7c6",
   "metadata": {},
   "outputs": [
    {
     "name": "stdout",
     "output_type": "stream",
     "text": [
      "Loading pretrained model ...\n",
      "Model loaded sucсessfully ...\n",
      "Loading red_pajama from togethercomputer/RedPajama-Data-1T-Sample\n"
     ]
    },
    {
     "name": "stderr",
     "output_type": "stream",
     "text": [
      "                                                                                \r"
     ]
    },
    {
     "name": "stdout",
     "output_type": "stream",
     "text": [
      "Loaded data from pajama; len(data)=256 sequences\n"
     ]
    },
    {
     "data": {
      "application/vnd.jupyter.widget-view+json": {
       "model_id": "98788b41bf9542da810d24e2ac1f0817",
       "version_major": 2,
       "version_minor": 0
      },
      "text/plain": [
       "computing hidden states (X):   0%|          | 0/256 [00:00<?, ?it/s]"
      ]
     },
     "metadata": {},
     "output_type": "display_data"
    },
    {
     "data": {
      "application/vnd.jupyter.widget-view+json": {
       "model_id": "a97293b176b648a39891403439197a4e",
       "version_major": 2,
       "version_minor": 0
      },
      "text/plain": [
       "computing dot products(XTX):   0%|          | 0/32 [00:00<?, ?it/s]"
      ]
     },
     "metadata": {},
     "output_type": "display_data"
    }
   ],
   "source": [
    "model = get_model(args.model_path, None, args.model_dtype, args.device_map)\n",
    "if not args.device_map:\n",
    "    model = model.to(device)\n",
    "\n",
    "train_data = get_loaders(\n",
    "    args.dataset,\n",
    "    nsamples=args.total_nsamples,\n",
    "    seed=args.seed,\n",
    "    model_path=args.model_path,\n",
    "    seqlen=args.model_seqlen,\n",
    ")\n",
    "\n",
    "X = torch.zeros(len(train_data), args.model_seqlen, model.config.hidden_size,\n",
    "                dtype=next(model.parameters()).dtype, device='cpu')\n",
    "with torch.no_grad():\n",
    "    for i, batch in enumerate(tqdm(train_data, desc='computing hidden states (X)')):\n",
    "        batch = batch.to(device)\n",
    "        hidden = model.model.forward(input_ids=batch, attention_mask=torch.ones_like(batch)).last_hidden_state\n",
    "        X[i : i + 1, ...].copy_(hidden)\n",
    "\n",
    "if args.x_save_path is not None:\n",
    "    torch.save(X, args.x_save_path)\n",
    "    print(\"X saved to\", args.x_save_path)\n",
    "    \n",
    "X_flat = X.flatten(0, -2)\n",
    "\n",
    "XTX = torch.zeros(X_flat.shape[-1], X_flat.shape[-1], device=device, dtype=args.xtx_dtype)\n",
    "for i in tqdm(range(0, len(X_flat), args.batch_size), desc='computing dot products (XTX)'):\n",
    "    x_batch = X_flat[i: i + args.batch_size].to(device=device, dtype=XTX.dtype)\n",
    "    XTX.addmm_(x_batch.T, x_batch, alpha=1 / len(X_flat))\n",
    "    del x_batch\n",
    "torch.save(XTX, args.xtx_save_path)\n",
    "print(\"XTX saved to\", args.xtx_save_path)"
   ]
  },
  {
   "cell_type": "code",
   "execution_count": 10,
   "id": "6e483932",
   "metadata": {},
   "outputs": [
    {
     "name": "stdout",
     "output_type": "stream",
     "text": [
      "XTX saved to ./tinyllama_xtx_seqlen2048_2560samples.pth\n"
     ]
    }
   ],
   "source": []
  }
 ],
 "metadata": {
  "kernelspec": {
   "display_name": "Python 3 (ipykernel)",
   "language": "python",
   "name": "python3"
  },
  "language_info": {
   "codemirror_mode": {
    "name": "ipython",
    "version": 3
   },
   "file_extension": ".py",
   "mimetype": "text/x-python",
   "name": "python",
   "nbconvert_exporter": "python",
   "pygments_lexer": "ipython3",
   "version": "3.9.19"
  }
 },
 "nbformat": 4,
 "nbformat_minor": 5
}
