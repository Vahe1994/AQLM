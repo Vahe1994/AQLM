{
 "cells": [
  {
   "cell_type": "code",
   "execution_count": 1,
   "id": "43871e67",
   "metadata": {},
   "outputs": [
    {
     "name": "stdout",
     "output_type": "stream",
     "text": [
      "env: CUDA_VISIBLE_DEVICES=6\n",
      "env: TRANSFORMERS_CACHE=/mnt/LLM/hub\n",
      "env: HF_HOME=/mnt/LLM/\n",
      "env: OMP_NUM_THREADS=16\n"
     ]
    },
    {
     "name": "stderr",
     "output_type": "stream",
     "text": [
      "/home/vahe1994/anaconda3/lib/python3.9/site-packages/transformers/utils/hub.py:128: FutureWarning: Using `TRANSFORMERS_CACHE` is deprecated and will be removed in v5 of Transformers. Use `HF_HOME` instead.\n",
      "  warnings.warn(\n",
      "<frozen importlib._bootstrap>:228: RuntimeWarning: pyarrow.lib.IpcReadOptions size changed, may indicate binary incompatibility. Expected 96 from C header, got 104 from PyObject\n",
      "<frozen importlib._bootstrap>:228: RuntimeWarning: pyarrow.lib.Tensor size changed, may indicate binary incompatibility. Expected 64 from C header, got 80 from PyObject\n",
      "<frozen importlib._bootstrap>:228: RuntimeWarning: pyarrow.lib.NativeFile size changed, may indicate binary incompatibility. Expected 96 from C header, got 104 from PyObject\n",
      "<frozen importlib._bootstrap>:228: RuntimeWarning: pyarrow.lib.BufferedInputStream size changed, may indicate binary incompatibility. Expected 96 from C header, got 104 from PyObject\n",
      "<frozen importlib._bootstrap>:228: RuntimeWarning: pyarrow.lib.BufferedOutputStream size changed, may indicate binary incompatibility. Expected 96 from C header, got 104 from PyObject\n",
      "<frozen importlib._bootstrap>:228: RuntimeWarning: pyarrow.lib.CompressedInputStream size changed, may indicate binary incompatibility. Expected 96 from C header, got 104 from PyObject\n",
      "<frozen importlib._bootstrap>:228: RuntimeWarning: pyarrow.lib.CompressedOutputStream size changed, may indicate binary incompatibility. Expected 96 from C header, got 104 from PyObject\n",
      "<frozen importlib._bootstrap>:228: RuntimeWarning: pyarrow._fs.FileInfo size changed, may indicate binary incompatibility. Expected 64 from C header, got 88 from PyObject\n",
      "<frozen importlib._bootstrap>:228: RuntimeWarning: pyarrow._fs.FileSelector size changed, may indicate binary incompatibility. Expected 48 from C header, got 72 from PyObject\n"
     ]
    }
   ],
   "source": [
    "%env CUDA_VISIBLE_DEVICES=6\n",
    "%env TRANSFORMERS_CACHE=/mnt/LLM/hub\n",
    "%env HF_HOME=/mnt/LLM/\n",
    "%env OMP_NUM_THREADS=16\n",
    "%load_ext autoreload\n",
    "%autoreload 2\n",
    "\n",
    "import os\n",
    "import sys\n",
    "sys.path.insert(0, '..')\n",
    "\n",
    "import time\n",
    "import random\n",
    "from tqdm.auto import trange, tqdm\n",
    "import numpy as np\n",
    "import ipynbname  # pip install ipynbname\n",
    "\n",
    "import torch\n",
    "import torch.nn as nn\n",
    "import torch.nn.functional as F\n",
    "import transformers\n",
    "\n",
    "from src.aq import QuantizedWeight, QuantizedLinear\n",
    "from src.modelutils import get_model\n",
    "from src.datautils import get_loaders\n",
    "from convert_legacy_model_format import load_quantized_model_with_old_pickle\n",
    "\n",
    "\n",
    "torch.set_num_threads(16)\n",
    "torch.backends.cudnn.allow_tf32 = False\n",
    "torch.backends.cuda.matmul.allow_tf32 = False\n",
    "device = torch.device('cuda' if torch.cuda.is_available() else 'cpu')\n"
   ]
  },
  {
   "cell_type": "code",
   "execution_count": null,
   "id": "3eec2227",
   "metadata": {},
   "outputs": [],
   "source": []
  },
  {
   "cell_type": "code",
   "execution_count": 2,
   "id": "dbf7e1f4",
   "metadata": {},
   "outputs": [],
   "source": [
    "class args:\n",
    "    base_model = \"TinyLlama/TinyLlama-1.1B-intermediate-step-1431k-3T\"\n",
    "    quant_model = \"/extra_disk_1/vahe1994/AQ/tinyllama-3t-1x12g4/\"\n",
    "    dtype = 'bfloat16'\n",
    "    model_seqlen = 1024  # can be 2048 for 1.1B, 4096-8192 for larger models\n",
    "    device_map = 'auto'\n",
    "    \n",
    "    dataset = 'pajama'\n",
    "    step_nsamples = 256\n",
    "    total_nsamples = 2560\n",
    "    seed = 42\n",
    "    beam_size = 1                    # <-- todo when training single-codebook models, use beam size 1\n",
    "    stochastic_rounding_tau = 0.0    # keep it at 0\n",
    "    max_code_change_per_step = 1.0   # was 1e-2 for subspace PV\n",
    "    code_trust_ratio=None            # 0.1 - 0.01\n",
    "    entropy_reg=0.002                 \n",
    "    code_selection_temperature=100   # <-- uniform sampling for now, TODO\n",
    "    delta_decay = 0.0                # <-- this defines the use of STE\n",
    "    \n",
    "    code_lr = 1e-4\n",
    "    code_betas = (0.0, 0.95)\n",
    "    codebook_lr = 2e-5\n",
    "    codebook_betas = (0.9, 0.95)\n",
    "    \n",
    "    autocast_dtype = torch.bfloat16  # bfloat16 or None (not using grad scaler!)\n",
    "    training_dtype = torch.float32\n",
    "    gradient_checkpointing = False\n",
    "    devices = [device]"
   ]
  },
  {
   "cell_type": "code",
   "execution_count": 3,
   "id": "72ea600a",
   "metadata": {},
   "outputs": [],
   "source": [
    "quant_name = args.quant_model.split(\"/\")[-2]"
   ]
  },
  {
   "cell_type": "code",
   "execution_count": 4,
   "id": "ff5ef7b8",
   "metadata": {},
   "outputs": [],
   "source": [
    "import inspect\n",
    "\n",
    "def props(obj):\n",
    "    pr = {}\n",
    "    for name in dir(obj):\n",
    "        value = getattr(obj, name)\n",
    "        if not name.startswith('__') and not inspect.ismethod(value):\n",
    "            pr[name] = value\n",
    "    return pr"
   ]
  },
  {
   "cell_type": "code",
   "execution_count": 5,
   "id": "2aa2bc1f",
   "metadata": {},
   "outputs": [],
   "source": [
    "a= props(args)"
   ]
  },
  {
   "cell_type": "code",
   "execution_count": 6,
   "id": "563513da",
   "metadata": {},
   "outputs": [
    {
     "name": "stderr",
     "output_type": "stream",
     "text": [
      "\u001b[34m\u001b[1mwandb\u001b[0m: Currently logged in as: \u001b[33mvahe1994\u001b[0m (\u001b[33mrock-and-roll\u001b[0m). Use \u001b[1m`wandb login --relogin`\u001b[0m to force relogin\n"
     ]
    },
    {
     "data": {
      "text/html": [
       "wandb version 0.18.7 is available!  To upgrade, please run:\n",
       " $ pip install wandb --upgrade"
      ],
      "text/plain": [
       "<IPython.core.display.HTML object>"
      ]
     },
     "metadata": {},
     "output_type": "display_data"
    },
    {
     "data": {
      "text/html": [
       "Tracking run with wandb version 0.16.0"
      ],
      "text/plain": [
       "<IPython.core.display.HTML object>"
      ]
     },
     "metadata": {},
     "output_type": "display_data"
    },
    {
     "data": {
      "text/html": [
       "Run data is saved locally in <code>/home/vahe1994/code/entropy/AQLM/notebooks/wandb/run-20241119_113358-vy35lvut</code>"
      ],
      "text/plain": [
       "<IPython.core.display.HTML object>"
      ]
     },
     "metadata": {},
     "output_type": "display_data"
    },
    {
     "data": {
      "text/html": [
       "Syncing run <strong><a href='https://wandb.ai/rock-and-roll/Entropy_PV/runs/vy35lvut' target=\"_blank\">entropy_tinyllama-1x12g4-PV-nosubspace-noSTE-ent_wandb-Copy1_PV_entropy_tinyllama-3t-1x12g4_args.entropy_reg=0.002_args.code_lr=0.0001_args.max_code_change_per_step=1.0_args.code_trust_ratio=None</a></strong> to <a href='https://wandb.ai/rock-and-roll/Entropy_PV' target=\"_blank\">Weights & Biases</a> (<a href='https://wandb.me/run' target=\"_blank\">docs</a>)<br/>"
      ],
      "text/plain": [
       "<IPython.core.display.HTML object>"
      ]
     },
     "metadata": {},
     "output_type": "display_data"
    },
    {
     "data": {
      "text/html": [
       " View project at <a href='https://wandb.ai/rock-and-roll/Entropy_PV' target=\"_blank\">https://wandb.ai/rock-and-roll/Entropy_PV</a>"
      ],
      "text/plain": [
       "<IPython.core.display.HTML object>"
      ]
     },
     "metadata": {},
     "output_type": "display_data"
    },
    {
     "data": {
      "text/html": [
       " View run at <a href='https://wandb.ai/rock-and-roll/Entropy_PV/runs/vy35lvut' target=\"_blank\">https://wandb.ai/rock-and-roll/Entropy_PV/runs/vy35lvut</a>"
      ],
      "text/plain": [
       "<IPython.core.display.HTML object>"
      ]
     },
     "metadata": {},
     "output_type": "display_data"
    },
    {
     "name": "stderr",
     "output_type": "stream",
     "text": [
      "\u001b[34m\u001b[1mwandb\u001b[0m: \u001b[33mWARNING\u001b[0m No relevant files were detected in the specified directory. No code will be logged to your run.\n"
     ]
    }
   ],
   "source": [
    "import wandb\n",
    "\n",
    "os.environ[\"WANDB_NOTEBOOK_NAME\"] = os.path.join(os.getcwd(), ipynbname.name() + \".ipynb\")\n",
    "\n",
    "# start a new wandb run to track this script\n",
    "run = wandb.init(\n",
    "    # set the wandb project where this run will be logged\n",
    "    dir=os.getcwd(),\n",
    "    project=\"Entropy_PV\",\n",
    "    entity = \"rock-and-roll\",\n",
    "    save_code=True,\n",
    "    name = f\"{ipynbname.name()}_PV_entropy_{quant_name}_{args.entropy_reg=}_{args.code_lr=}_{args.max_code_change_per_step=}_{args.code_trust_ratio=}\",\n",
    "    settings=wandb.Settings(code_dir=\".\"),\n",
    "    config=a\n",
    ")"
   ]
  },
  {
   "cell_type": "code",
   "execution_count": 7,
   "id": "af6b5587",
   "metadata": {},
   "outputs": [],
   "source": [
    "# train_data = get_loaders(\n",
    "#     args.dataset,\n",
    "#     nsamples=args.total_nsamples,\n",
    "#     seed=args.seed,\n",
    "#     model_path=args.base_model,\n",
    "#     seqlen=args.model_seqlen,\n",
    "# )\n",
    "train_data = torch.load(\"/extra_disk_1/vahe1994/AQ/red_paj_samples.pt\")"
   ]
  },
  {
   "cell_type": "code",
   "execution_count": 8,
   "id": "10eb1e3e",
   "metadata": {},
   "outputs": [
    {
     "name": "stdout",
     "output_type": "stream",
     "text": [
      "Loading pretrained model ...\n",
      "Model loaded sucсessfully ...\n",
      "Loading pretrained model ...\n",
      "Model loaded sucсessfully ...\n",
      "Initializing model with random weights...\n",
      "Loading quantized model ...\n",
      "Model loaded sucсessfully ...\n",
      "found 154 quantized weight matrices\n"
     ]
    },
    {
     "name": "stderr",
     "output_type": "stream",
     "text": [
      "/home/vahe1994/code/entropy/AQLM/notebooks/../convert_legacy_model_format.py:51: UserWarning: You should be ashamed of yourself.\n",
      "  warnings.warn(\"You should be ashamed of yourself.\")\n"
     ]
    }
   ],
   "source": [
    "base_model = get_model(args.base_model, None, args.dtype, args.device_map)\n",
    "if not args.device_map:\n",
    "    base_model = base_model.to(device)\n",
    "\n",
    "quantized_model = load_quantized_model_with_old_pickle(\n",
    "    args.base_model, args.quant_model, dtype=args.dtype, device_map=args.device_map)\n",
    "if not args.device_map:\n",
    "    quantized_model = quantized_model.to(device)\n",
    "quantized_model = quantized_model.to(args.training_dtype)"
   ]
  },
  {
   "cell_type": "code",
   "execution_count": 9,
   "id": "1242fe37",
   "metadata": {},
   "outputs": [],
   "source": [
    "from src.pv_utils import create_dequantized_model\n",
    "dequantized_model, master_parameters = create_dequantized_model(\n",
    "    quantized_model, reuse_non_quantized=True, dequantized_dtype=args.autocast_dtype\n",
    ")\n",
    "for param in dequantized_model.parameters():\n",
    "    param.data = param.data.to(args.autocast_dtype)\n",
    "    \n",
    "if args.gradient_checkpointing:\n",
    "    quantized_model.gradient_checkpointing_enable()\n",
    "    quantized_model.enable_input_require_grads()\n",
    "    for module in quantized_model.modules():\n",
    "        if isinstance(module, QuantizedLinear):\n",
    "            module.use_checkpoint = True\n",
    "    dequantized_model.gradient_checkpointing_enable()\n",
    "    dequantized_model.enable_input_require_grads()\n"
   ]
  },
  {
   "cell_type": "code",
   "execution_count": 10,
   "id": "50e0731b",
   "metadata": {},
   "outputs": [],
   "source": [
    "from src.pv_optimizer import StraightThroughAdamW\n",
    "\n",
    "optimizer = StraightThroughAdamW(\n",
    "    named_dequantized_params=dict(dequantized_model.named_parameters()),\n",
    "    named_quantized_params=master_parameters,\n",
    "    \n",
    "    update_codes=dict(lr=args.code_lr, betas=args.code_betas),\n",
    "    update_codebooks_and_scales=dict(lr=args.codebook_lr, betas=args.codebook_betas),\n",
    "    update_non_quantized_parameters=dict(lr=args.codebook_lr, betas=args.codebook_betas),\n",
    "    code_trust_ratio=args.code_trust_ratio,\n",
    "    beam_size=args.beam_size,\n",
    "    max_code_change_per_step=args.max_code_change_per_step,\n",
    "    stochastic_rounding_tau=args.stochastic_rounding_tau,\n",
    "    straight_through_buffer_dtype=torch.float32,\n",
    "    entropy_reg=args.entropy_reg,\n",
    "    code_selection_temperature=args.code_selection_temperature,\n",
    "    wandb = run\n",
    ")"
   ]
  },
  {
   "cell_type": "code",
   "execution_count": 11,
   "id": "f4e5d12c",
   "metadata": {},
   "outputs": [],
   "source": [
    "POINTER = 0\n",
    "def next_train_data():\n",
    "    global POINTER\n",
    "    batch = []\n",
    "    for i in range(args.step_nsamples):\n",
    "        batch.append(train_data[POINTER % len(train_data)])\n",
    "        POINTER += 1\n",
    "    return batch\n",
    "\n",
    "\n",
    "def _run_one_step(args, base_model, dequantized_model, optimizer, train_data, **kwargs):\n",
    "    optimizer.zero_grad(set_to_none=True)\n",
    "    with tqdm(train_data, desc=\"V step\") as progress:\n",
    "\n",
    "        total_loss = 0.0\n",
    "        for i, batch in enumerate(progress):\n",
    "            batch = torch.as_tensor(batch, device=device)\n",
    "            with torch.no_grad():\n",
    "                teacher_logits = base_model(batch).logits\n",
    "            student_logits = dequantized_model(batch).logits  # forward accumulates XTX statistics\n",
    "            loss = kl_div(student_logits, teacher_logits)\n",
    "            (loss / len(train_data)).backward()  # backward accumulates gradient\n",
    "            total_loss = loss.item() / (i + 1) + total_loss * i / (i + 1)\n",
    "            progress.desc = f\"V step: accumulating gradients, loss = {total_loss:.9f}\"\n",
    "            del student_logits, teacher_logits, loss\n",
    "    optimizer.step(**kwargs)\n",
    "    optimizer.zero_grad(set_to_none=True)  # reset statistics for the next step\n",
    "    return total_loss\n",
    "\n",
    "\n",
    "def kl_div(student_hiddens, teacher_hiddens):\n",
    "    C = student_hiddens.shape[-1]  # num classes\n",
    "    return F.kl_div(\n",
    "        input=F.log_softmax(student_hiddens.view(-1, C), dim=-1),\n",
    "        target=F.log_softmax(teacher_hiddens.view(-1, C), dim=-1),\n",
    "        log_target=True,\n",
    "        reduction=\"batchmean\",\n",
    "    )\n"
   ]
  },
  {
   "cell_type": "code",
   "execution_count": 12,
   "id": "3eb28253",
   "metadata": {},
   "outputs": [
    {
     "name": "stdout",
     "output_type": "stream",
     "text": [
      "Loaded data from wikitext2; len(data)=1 sequences\n"
     ]
    }
   ],
   "source": [
    "eval_data = get_loaders(\n",
    "    'wikitext2',\n",
    "    seed=args.seed,\n",
    "    model_path=args.base_model,\n",
    "    seqlen=args.model_seqlen,\n",
    "    eval_mode=True,\n",
    ")\n",
    "\n",
    "@torch.inference_mode()\n",
    "def eval_ppl_naive(model, eval_data):\n",
    "    eval_inps = [\n",
    "        eval_data[:, start: start + args.model_seqlen] for start in range(0, eval_data.shape[1], args.model_seqlen)\n",
    "    ]\n",
    "    total_tokens = 0\n",
    "    nlls = []\n",
    "    for input_ids in tqdm(eval_inps):\n",
    "        input_ids = input_ids.to(device)\n",
    "        lm_logits = model(input_ids).logits\n",
    "\n",
    "        shift_logits = lm_logits[:, :-1, :].contiguous()\n",
    "        shift_labels = input_ids[:, 1:]\n",
    "        loss_fct = nn.CrossEntropyLoss()\n",
    "        loss = loss_fct(shift_logits.view(-1, shift_logits.size(-1)), shift_labels.view(-1))\n",
    "        neg_log_likelihood = loss.float() * args.model_seqlen\n",
    "        nlls.append(neg_log_likelihood)\n",
    "        total_tokens += shift_labels.numel()\n",
    "    ppl = torch.exp(torch.stack(nlls).sum() / total_tokens)\n",
    "    return ppl"
   ]
  },
  {
   "cell_type": "code",
   "execution_count": 13,
   "id": "180c8433",
   "metadata": {
    "scrolled": false
   },
   "outputs": [
    {
     "name": "stdout",
     "output_type": "stream",
     "text": [
      "STEP 0\n"
     ]
    },
    {
     "data": {
      "application/vnd.jupyter.widget-view+json": {
       "model_id": "d8caf47a71014889ab0b6607e7bbc3ba",
       "version_major": 2,
       "version_minor": 0
      },
      "text/plain": [
       "  0%|          | 0/334 [00:00<?, ?it/s]"
      ]
     },
     "metadata": {},
     "output_type": "display_data"
    },
    {
     "name": "stdout",
     "output_type": "stream",
     "text": [
      "wikitext2 ppl (naive) 9.341968536376953\n"
     ]
    },
    {
     "data": {
      "application/vnd.jupyter.widget-view+json": {
       "model_id": "3f4dfa3b756247ed978147e2cc4eca77",
       "version_major": 2,
       "version_minor": 0
      },
      "text/plain": [
       "V step:   0%|          | 0/256 [00:00<?, ?it/s]"
      ]
     },
     "metadata": {},
     "output_type": "display_data"
    },
    {
     "name": "stdout",
     "output_type": "stream",
     "text": [
      "AVG entropy(not correct): 11.836497523567893\n",
      "train loss: 0.0682287216186524\n",
      "STEP 1\n"
     ]
    },
    {
     "data": {
      "application/vnd.jupyter.widget-view+json": {
       "model_id": "9329e0cc60244b34b8ea688ca4a76d31",
       "version_major": 2,
       "version_minor": 0
      },
      "text/plain": [
       "V step:   0%|          | 0/256 [00:00<?, ?it/s]"
      ]
     },
     "metadata": {},
     "output_type": "display_data"
    },
    {
     "name": "stdout",
     "output_type": "stream",
     "text": [
      "AVG entropy(not correct): 11.787444031083739\n",
      "train loss: 0.06627416610717766\n",
      "STEP 2\n"
     ]
    },
    {
     "data": {
      "application/vnd.jupyter.widget-view+json": {
       "model_id": "b4cab3f0a0c448a28f7c0a9921b7c804",
       "version_major": 2,
       "version_minor": 0
      },
      "text/plain": [
       "V step:   0%|          | 0/256 [00:00<?, ?it/s]"
      ]
     },
     "metadata": {},
     "output_type": "display_data"
    },
    {
     "name": "stdout",
     "output_type": "stream",
     "text": [
      "AVG entropy(not correct): 11.753761260540454\n",
      "train loss: 0.06787681579589842\n",
      "STEP 3\n"
     ]
    },
    {
     "data": {
      "application/vnd.jupyter.widget-view+json": {
       "model_id": "a8525b0ecc3f40ee909f17c6eb258ffd",
       "version_major": 2,
       "version_minor": 0
      },
      "text/plain": [
       "V step:   0%|          | 0/256 [00:00<?, ?it/s]"
      ]
     },
     "metadata": {},
     "output_type": "display_data"
    },
    {
     "name": "stdout",
     "output_type": "stream",
     "text": [
      "AVG entropy(not correct): 11.734296464300774\n",
      "train loss: 0.07246971130371098\n",
      "STEP 4\n"
     ]
    },
    {
     "data": {
      "application/vnd.jupyter.widget-view+json": {
       "model_id": "22a6f2c2525649f6a4d2423c53ea00bd",
       "version_major": 2,
       "version_minor": 0
      },
      "text/plain": [
       "V step:   0%|          | 0/256 [00:00<?, ?it/s]"
      ]
     },
     "metadata": {},
     "output_type": "display_data"
    },
    {
     "name": "stdout",
     "output_type": "stream",
     "text": [
      "AVG entropy(not correct): 11.716225630277163\n",
      "train loss: 0.06946063041687006\n",
      "STEP 5\n"
     ]
    },
    {
     "data": {
      "application/vnd.jupyter.widget-view+json": {
       "model_id": "a069191143064c24a048ecd0923f2409",
       "version_major": 2,
       "version_minor": 0
      },
      "text/plain": [
       "  0%|          | 0/334 [00:00<?, ?it/s]"
      ]
     },
     "metadata": {},
     "output_type": "display_data"
    },
    {
     "name": "stdout",
     "output_type": "stream",
     "text": [
      "wikitext2 ppl (naive) 9.300655364990234\n"
     ]
    },
    {
     "data": {
      "application/vnd.jupyter.widget-view+json": {
       "model_id": "b0706c983033427fbda2c8e418309dd2",
       "version_major": 2,
       "version_minor": 0
      },
      "text/plain": [
       "V step:   0%|          | 0/256 [00:00<?, ?it/s]"
      ]
     },
     "metadata": {},
     "output_type": "display_data"
    },
    {
     "name": "stdout",
     "output_type": "stream",
     "text": [
      "AVG entropy(not correct): 11.700725673081038\n",
      "train loss: 0.06352281570434572\n",
      "STEP 6\n"
     ]
    },
    {
     "data": {
      "application/vnd.jupyter.widget-view+json": {
       "model_id": "3a64e36bf6214530817d9eeabd2efcb4",
       "version_major": 2,
       "version_minor": 0
      },
      "text/plain": [
       "V step:   0%|          | 0/256 [00:00<?, ?it/s]"
      ]
     },
     "metadata": {},
     "output_type": "display_data"
    },
    {
     "name": "stdout",
     "output_type": "stream",
     "text": [
      "AVG entropy(not correct): 11.686971193784244\n",
      "train loss: 0.06632280349731456\n",
      "STEP 7\n"
     ]
    },
    {
     "data": {
      "application/vnd.jupyter.widget-view+json": {
       "model_id": "edf4bebbc8be4f939e66744cc223254d",
       "version_major": 2,
       "version_minor": 0
      },
      "text/plain": [
       "V step:   0%|          | 0/256 [00:00<?, ?it/s]"
      ]
     },
     "metadata": {},
     "output_type": "display_data"
    },
    {
     "name": "stdout",
     "output_type": "stream",
     "text": [
      "AVG entropy(not correct): 11.673471724832213\n",
      "train loss: 0.06321048736572271\n",
      "STEP 8\n"
     ]
    },
    {
     "data": {
      "application/vnd.jupyter.widget-view+json": {
       "model_id": "f1cb5fbfaeed40c4a2b3495fdf08659e",
       "version_major": 2,
       "version_minor": 0
      },
      "text/plain": [
       "V step:   0%|          | 0/256 [00:00<?, ?it/s]"
      ]
     },
     "metadata": {},
     "output_type": "display_data"
    },
    {
     "name": "stdout",
     "output_type": "stream",
     "text": [
      "AVG entropy(not correct): 11.661000268799919\n",
      "train loss: 0.0703411102294923\n",
      "STEP 9\n"
     ]
    },
    {
     "data": {
      "application/vnd.jupyter.widget-view+json": {
       "model_id": "76903e7115de4e93b4f3e8a35c5d97a6",
       "version_major": 2,
       "version_minor": 0
      },
      "text/plain": [
       "V step:   0%|          | 0/256 [00:00<?, ?it/s]"
      ]
     },
     "metadata": {},
     "output_type": "display_data"
    },
    {
     "name": "stdout",
     "output_type": "stream",
     "text": [
      "AVG entropy(not correct): 11.650068264502984\n",
      "train loss: 0.06414985656738288\n",
      "STEP 10\n"
     ]
    },
    {
     "data": {
      "application/vnd.jupyter.widget-view+json": {
       "model_id": "75e720abaf0346aabcfc5e8e61a286cf",
       "version_major": 2,
       "version_minor": 0
      },
      "text/plain": [
       "  0%|          | 0/334 [00:00<?, ?it/s]"
      ]
     },
     "metadata": {},
     "output_type": "display_data"
    },
    {
     "name": "stdout",
     "output_type": "stream",
     "text": [
      "wikitext2 ppl (naive) 9.294114112854004\n"
     ]
    },
    {
     "data": {
      "application/vnd.jupyter.widget-view+json": {
       "model_id": "172cc2ebfc76415ea0bad72372f74b6a",
       "version_major": 2,
       "version_minor": 0
      },
      "text/plain": [
       "V step:   0%|          | 0/256 [00:00<?, ?it/s]"
      ]
     },
     "metadata": {},
     "output_type": "display_data"
    },
    {
     "name": "stdout",
     "output_type": "stream",
     "text": [
      "AVG entropy(not correct): 11.634480996565385\n",
      "train loss: 0.058072566986084\n",
      "STEP 11\n"
     ]
    },
    {
     "data": {
      "application/vnd.jupyter.widget-view+json": {
       "model_id": "9540639abdcb4606987f51469f6a32c8",
       "version_major": 2,
       "version_minor": 0
      },
      "text/plain": [
       "V step:   0%|          | 0/256 [00:00<?, ?it/s]"
      ]
     },
     "metadata": {},
     "output_type": "display_data"
    },
    {
     "name": "stdout",
     "output_type": "stream",
     "text": [
      "AVG entropy(not correct): 11.622811949098265\n",
      "train loss: 0.058865308761596714\n",
      "STEP 12\n"
     ]
    },
    {
     "data": {
      "application/vnd.jupyter.widget-view+json": {
       "model_id": "13724bf6ef514bf2a0a7430a49be8810",
       "version_major": 2,
       "version_minor": 0
      },
      "text/plain": [
       "V step:   0%|          | 0/256 [00:00<?, ?it/s]"
      ]
     },
     "metadata": {},
     "output_type": "display_data"
    },
    {
     "name": "stdout",
     "output_type": "stream",
     "text": [
      "AVG entropy(not correct): 11.6108430577563\n",
      "train loss: 0.062080860137939405\n",
      "STEP 13\n"
     ]
    },
    {
     "data": {
      "application/vnd.jupyter.widget-view+json": {
       "model_id": "034be9bd314d424c84cce894b3bc4d31",
       "version_major": 2,
       "version_minor": 0
      },
      "text/plain": [
       "V step:   0%|          | 0/256 [00:00<?, ?it/s]"
      ]
     },
     "metadata": {},
     "output_type": "display_data"
    },
    {
     "name": "stdout",
     "output_type": "stream",
     "text": [
      "AVG entropy(not correct): 11.603673882298656\n",
      "train loss: 0.06548571586608896\n",
      "STEP 14\n"
     ]
    },
    {
     "data": {
      "application/vnd.jupyter.widget-view+json": {
       "model_id": "d20294738125457a8d72dbafb00ab42c",
       "version_major": 2,
       "version_minor": 0
      },
      "text/plain": [
       "V step:   0%|          | 0/256 [00:00<?, ?it/s]"
      ]
     },
     "metadata": {},
     "output_type": "display_data"
    },
    {
     "name": "stdout",
     "output_type": "stream",
     "text": [
      "AVG entropy(not correct): 11.59579092341584\n",
      "train loss: 0.06406593322753908\n",
      "STEP 15\n"
     ]
    },
    {
     "data": {
      "application/vnd.jupyter.widget-view+json": {
       "model_id": "3eba093695c844db9a16e8097a479888",
       "version_major": 2,
       "version_minor": 0
      },
      "text/plain": [
       "  0%|          | 0/334 [00:00<?, ?it/s]"
      ]
     },
     "metadata": {},
     "output_type": "display_data"
    },
    {
     "name": "stdout",
     "output_type": "stream",
     "text": [
      "wikitext2 ppl (naive) 9.303272247314453\n"
     ]
    },
    {
     "data": {
      "application/vnd.jupyter.widget-view+json": {
       "model_id": "c7f18470153949fbb3878463a834a8d6",
       "version_major": 2,
       "version_minor": 0
      },
      "text/plain": [
       "V step:   0%|          | 0/256 [00:00<?, ?it/s]"
      ]
     },
     "metadata": {},
     "output_type": "display_data"
    },
    {
     "name": "stdout",
     "output_type": "stream",
     "text": [
      "AVG entropy(not correct): 11.587629784237254\n",
      "train loss: 0.05910801887512206\n",
      "STEP 16\n"
     ]
    },
    {
     "data": {
      "application/vnd.jupyter.widget-view+json": {
       "model_id": "34e67e9cd4f34416802aa278a3c08f71",
       "version_major": 2,
       "version_minor": 0
      },
      "text/plain": [
       "V step:   0%|          | 0/256 [00:00<?, ?it/s]"
      ]
     },
     "metadata": {},
     "output_type": "display_data"
    },
    {
     "name": "stdout",
     "output_type": "stream",
     "text": [
      "AVG entropy(not correct): 11.580306396855937\n",
      "train loss: 0.06219053268432604\n",
      "STEP 17\n"
     ]
    },
    {
     "data": {
      "application/vnd.jupyter.widget-view+json": {
       "model_id": "2b4e4f61b5b4416181a361942db5fd6e",
       "version_major": 2,
       "version_minor": 0
      },
      "text/plain": [
       "V step:   0%|          | 0/256 [00:00<?, ?it/s]"
      ]
     },
     "metadata": {},
     "output_type": "display_data"
    },
    {
     "name": "stdout",
     "output_type": "stream",
     "text": [
      "AVG entropy(not correct): 11.572256356090694\n",
      "train loss: 0.059674501419067334\n",
      "STEP 18\n"
     ]
    },
    {
     "data": {
      "application/vnd.jupyter.widget-view+json": {
       "model_id": "7356e91793b64627a10bac017a29d39f",
       "version_major": 2,
       "version_minor": 0
      },
      "text/plain": [
       "V step:   0%|          | 0/256 [00:00<?, ?it/s]"
      ]
     },
     "metadata": {},
     "output_type": "display_data"
    },
    {
     "name": "stdout",
     "output_type": "stream",
     "text": [
      "AVG entropy(not correct): 11.565696157418289\n",
      "train loss: 0.06643199920654295\n",
      "STEP 19\n"
     ]
    },
    {
     "data": {
      "application/vnd.jupyter.widget-view+json": {
       "model_id": "b566b17e18864eb685a75636246459ac",
       "version_major": 2,
       "version_minor": 0
      },
      "text/plain": [
       "V step:   0%|          | 0/256 [00:00<?, ?it/s]"
      ]
     },
     "metadata": {},
     "output_type": "display_data"
    },
    {
     "name": "stdout",
     "output_type": "stream",
     "text": [
      "AVG entropy(not correct): 11.55884525683019\n",
      "train loss: 0.06110024452209475\n",
      "STEP 20\n"
     ]
    },
    {
     "data": {
      "application/vnd.jupyter.widget-view+json": {
       "model_id": "10170504474d449fb8085c4f149c3c48",
       "version_major": 2,
       "version_minor": 0
      },
      "text/plain": [
       "  0%|          | 0/334 [00:00<?, ?it/s]"
      ]
     },
     "metadata": {},
     "output_type": "display_data"
    },
    {
     "name": "stdout",
     "output_type": "stream",
     "text": [
      "wikitext2 ppl (naive) 9.302400588989258\n"
     ]
    },
    {
     "data": {
      "application/vnd.jupyter.widget-view+json": {
       "model_id": "afa8078bd85548609807f3599c12dc13",
       "version_major": 2,
       "version_minor": 0
      },
      "text/plain": [
       "V step:   0%|          | 0/256 [00:00<?, ?it/s]"
      ]
     },
     "metadata": {},
     "output_type": "display_data"
    },
    {
     "name": "stdout",
     "output_type": "stream",
     "text": [
      "AVG entropy(not correct): 11.548418521881104\n",
      "train loss: 0.05575084686279293\n",
      "STEP 21\n"
     ]
    },
    {
     "data": {
      "application/vnd.jupyter.widget-view+json": {
       "model_id": "a861e2e1305d41bab6a5bec317bba8b4",
       "version_major": 2,
       "version_minor": 0
      },
      "text/plain": [
       "V step:   0%|          | 0/256 [00:00<?, ?it/s]"
      ]
     },
     "metadata": {},
     "output_type": "display_data"
    },
    {
     "name": "stdout",
     "output_type": "stream",
     "text": [
      "AVG entropy(not correct): 11.539850414573372\n",
      "train loss: 0.05610799789428714\n",
      "STEP 22\n"
     ]
    },
    {
     "data": {
      "application/vnd.jupyter.widget-view+json": {
       "model_id": "ea6c3db1f77a435bb3b47db49ac5f4b8",
       "version_major": 2,
       "version_minor": 0
      },
      "text/plain": [
       "V step:   0%|          | 0/256 [00:00<?, ?it/s]"
      ]
     },
     "metadata": {},
     "output_type": "display_data"
    },
    {
     "name": "stdout",
     "output_type": "stream",
     "text": [
      "AVG entropy(not correct): 11.531354182726377\n",
      "train loss: 0.059133529663085944\n",
      "STEP 23\n"
     ]
    },
    {
     "data": {
      "application/vnd.jupyter.widget-view+json": {
       "model_id": "4d139bcb67c247e598749152539b90f4",
       "version_major": 2,
       "version_minor": 0
      },
      "text/plain": [
       "V step:   0%|          | 0/256 [00:00<?, ?it/s]"
      ]
     },
     "metadata": {},
     "output_type": "display_data"
    },
    {
     "name": "stdout",
     "output_type": "stream",
     "text": [
      "AVG entropy(not correct): 11.525535547888124\n",
      "train loss: 0.06176781654357912\n",
      "STEP 24\n"
     ]
    },
    {
     "data": {
      "application/vnd.jupyter.widget-view+json": {
       "model_id": "ab45692e4a8042f59e1773c3e745f3c3",
       "version_major": 2,
       "version_minor": 0
      },
      "text/plain": [
       "V step:   0%|          | 0/256 [00:00<?, ?it/s]"
      ]
     },
     "metadata": {},
     "output_type": "display_data"
    },
    {
     "name": "stdout",
     "output_type": "stream",
     "text": [
      "AVG entropy(not correct): 11.519564317418384\n",
      "train loss: 0.06077098846435554\n",
      "STEP 25\n"
     ]
    },
    {
     "data": {
      "application/vnd.jupyter.widget-view+json": {
       "model_id": "3166685ea38545178bddbf52eeec133e",
       "version_major": 2,
       "version_minor": 0
      },
      "text/plain": [
       "  0%|          | 0/334 [00:00<?, ?it/s]"
      ]
     },
     "metadata": {},
     "output_type": "display_data"
    },
    {
     "name": "stdout",
     "output_type": "stream",
     "text": [
      "wikitext2 ppl (naive) 9.312439918518066\n"
     ]
    },
    {
     "data": {
      "application/vnd.jupyter.widget-view+json": {
       "model_id": "3095ac22757f42fcb6cd78fc502441ad",
       "version_major": 2,
       "version_minor": 0
      },
      "text/plain": [
       "V step:   0%|          | 0/256 [00:00<?, ?it/s]"
      ]
     },
     "metadata": {},
     "output_type": "display_data"
    },
    {
     "name": "stdout",
     "output_type": "stream",
     "text": [
      "AVG entropy(not correct): 11.512186216069507\n",
      "train loss: 0.05625820159912107\n",
      "STEP 26\n"
     ]
    },
    {
     "data": {
      "application/vnd.jupyter.widget-view+json": {
       "model_id": "8b02fafe3ab94e979e0ff215d024f404",
       "version_major": 2,
       "version_minor": 0
      },
      "text/plain": [
       "V step:   0%|          | 0/256 [00:00<?, ?it/s]"
      ]
     },
     "metadata": {},
     "output_type": "display_data"
    },
    {
     "name": "stdout",
     "output_type": "stream",
     "text": [
      "AVG entropy(not correct): 11.505987896547689\n",
      "train loss: 0.05909013748168944\n",
      "STEP 27\n"
     ]
    },
    {
     "data": {
      "application/vnd.jupyter.widget-view+json": {
       "model_id": "f66cde52789841a0ad894d2123b6aa7b",
       "version_major": 2,
       "version_minor": 0
      },
      "text/plain": [
       "V step:   0%|          | 0/256 [00:00<?, ?it/s]"
      ]
     },
     "metadata": {},
     "output_type": "display_data"
    },
    {
     "name": "stdout",
     "output_type": "stream",
     "text": [
      "AVG entropy(not correct): 11.498767878328051\n",
      "train loss: 0.05707573890686038\n",
      "STEP 28\n"
     ]
    },
    {
     "data": {
      "application/vnd.jupyter.widget-view+json": {
       "model_id": "82b1a0b9a7bd4f419b51ad350ae32f8f",
       "version_major": 2,
       "version_minor": 0
      },
      "text/plain": [
       "V step:   0%|          | 0/256 [00:00<?, ?it/s]"
      ]
     },
     "metadata": {},
     "output_type": "display_data"
    },
    {
     "name": "stdout",
     "output_type": "stream",
     "text": [
      "AVG entropy(not correct): 11.493102539669383\n",
      "train loss: 0.06327104568481445\n",
      "STEP 29\n"
     ]
    },
    {
     "data": {
      "application/vnd.jupyter.widget-view+json": {
       "model_id": "9c95adbdb7134eb1927779138c0ca51e",
       "version_major": 2,
       "version_minor": 0
      },
      "text/plain": [
       "V step:   0%|          | 0/256 [00:00<?, ?it/s]"
      ]
     },
     "metadata": {},
     "output_type": "display_data"
    },
    {
     "name": "stdout",
     "output_type": "stream",
     "text": [
      "AVG entropy(not correct): 11.486827196238877\n",
      "train loss: 0.05847620964050294\n",
      "STEP 30\n"
     ]
    },
    {
     "data": {
      "application/vnd.jupyter.widget-view+json": {
       "model_id": "2ba5ca04832a46f98ecc8acdc7282390",
       "version_major": 2,
       "version_minor": 0
      },
      "text/plain": [
       "  0%|          | 0/334 [00:00<?, ?it/s]"
      ]
     },
     "metadata": {},
     "output_type": "display_data"
    },
    {
     "name": "stdout",
     "output_type": "stream",
     "text": [
      "AVG entropy(not correct): 11.456333508739224\n",
      "train loss: 0.05920791625976563\n",
      "STEP 34\n"
     ]
    },
    {
     "data": {
      "application/vnd.jupyter.widget-view+json": {
       "model_id": "ca1a2112ac0148298d75c96fc23f9291",
       "version_major": 2,
       "version_minor": 0
      },
      "text/plain": [
       "V step:   0%|          | 0/256 [00:00<?, ?it/s]"
      ]
     },
     "metadata": {},
     "output_type": "display_data"
    },
    {
     "name": "stdout",
     "output_type": "stream",
     "text": [
      "AVG entropy(not correct): 11.450537658357002\n",
      "train loss: 0.058113336563110345\n",
      "STEP 35\n"
     ]
    },
    {
     "data": {
      "application/vnd.jupyter.widget-view+json": {
       "model_id": "ba48c4793bbc4c7d8dd626e38ca0187a",
       "version_major": 2,
       "version_minor": 0
      },
      "text/plain": [
       "  0%|          | 0/334 [00:00<?, ?it/s]"
      ]
     },
     "metadata": {},
     "output_type": "display_data"
    },
    {
     "name": "stdout",
     "output_type": "stream",
     "text": [
      "wikitext2 ppl (naive) 9.336711883544922\n"
     ]
    },
    {
     "data": {
      "application/vnd.jupyter.widget-view+json": {
       "model_id": "4dac5421135f4d3995ebdd54f634ebea",
       "version_major": 2,
       "version_minor": 0
      },
      "text/plain": [
       "V step:   0%|          | 0/256 [00:00<?, ?it/s]"
      ]
     },
     "metadata": {},
     "output_type": "display_data"
    },
    {
     "name": "stdout",
     "output_type": "stream",
     "text": [
      "AVG entropy(not correct): 11.44328309498824\n",
      "train loss: 0.05430722236633298\n",
      "STEP 36\n"
     ]
    },
    {
     "data": {
      "application/vnd.jupyter.widget-view+json": {
       "model_id": "880ed56bf35c47aaa66e8da5037cd8fa",
       "version_major": 2,
       "version_minor": 0
      },
      "text/plain": [
       "V step:   0%|          | 0/256 [00:00<?, ?it/s]"
      ]
     },
     "metadata": {},
     "output_type": "display_data"
    },
    {
     "name": "stderr",
     "output_type": "stream",
     "text": [
      "IOPub message rate exceeded.\n",
      "The notebook server will temporarily stop sending output\n",
      "to the client in order to avoid crashing it.\n",
      "To change this limit, set the config variable\n",
      "`--NotebookApp.iopub_msg_rate_limit`.\n",
      "\n",
      "Current values:\n",
      "NotebookApp.iopub_msg_rate_limit=1000.0 (msgs/sec)\n",
      "NotebookApp.rate_limit_window=3.0 (secs)\n",
      "\n"
     ]
    },
    {
     "name": "stdout",
     "output_type": "stream",
     "text": [
      "AVG entropy(not correct): 11.357478454515531\n",
      "train loss: 0.05385541915893554\n",
      "STEP 48\n"
     ]
    },
    {
     "data": {
      "application/vnd.jupyter.widget-view+json": {
       "model_id": "9d326f051df94cfea573365fef3c98f6",
       "version_major": 2,
       "version_minor": 0
      },
      "text/plain": [
       "V step:   0%|          | 0/256 [00:00<?, ?it/s]"
      ]
     },
     "metadata": {},
     "output_type": "display_data"
    },
    {
     "name": "stdout",
     "output_type": "stream",
     "text": [
      "AVG entropy(not correct): 11.351000914325962\n",
      "train loss: 0.05883693695068356\n",
      "STEP 49\n"
     ]
    },
    {
     "data": {
      "application/vnd.jupyter.widget-view+json": {
       "model_id": "4b6c533dc20644278fec7c149f1a1bec",
       "version_major": 2,
       "version_minor": 0
      },
      "text/plain": [
       "V step:   0%|          | 0/256 [00:00<?, ?it/s]"
      ]
     },
     "metadata": {},
     "output_type": "display_data"
    },
    {
     "name": "stdout",
     "output_type": "stream",
     "text": [
      "AVG entropy(not correct): 11.34366753039422\n",
      "train loss: 0.05533051490783696\n",
      "STEP 50\n"
     ]
    },
    {
     "data": {
      "application/vnd.jupyter.widget-view+json": {
       "model_id": "9c611182d13645cdb431c47322a04252",
       "version_major": 2,
       "version_minor": 0
      },
      "text/plain": [
       "  0%|          | 0/334 [00:00<?, ?it/s]"
      ]
     },
     "metadata": {},
     "output_type": "display_data"
    },
    {
     "name": "stdout",
     "output_type": "stream",
     "text": [
      "wikitext2 ppl (naive) 9.372032165527344\n"
     ]
    },
    {
     "data": {
      "application/vnd.jupyter.widget-view+json": {
       "model_id": "16fd7efa953c411dbcdf6eed8b5c4a8f",
       "version_major": 2,
       "version_minor": 0
      },
      "text/plain": [
       "V step:   0%|          | 0/256 [00:00<?, ?it/s]"
      ]
     },
     "metadata": {},
     "output_type": "display_data"
    },
    {
     "name": "stdout",
     "output_type": "stream",
     "text": [
      "AVG entropy(not correct): 11.333583671551246\n",
      "train loss: 0.05228805541992186\n",
      "STEP 51\n"
     ]
    },
    {
     "data": {
      "application/vnd.jupyter.widget-view+json": {
       "model_id": "081eb9ea8259483897f602483d613db8",
       "version_major": 2,
       "version_minor": 0
      },
      "text/plain": [
       "V step:   0%|          | 0/256 [00:00<?, ?it/s]"
      ]
     },
     "metadata": {},
     "output_type": "display_data"
    },
    {
     "name": "stdout",
     "output_type": "stream",
     "text": [
      "AVG entropy(not correct): 11.324795269346856\n",
      "train loss: 0.05220472812652595\n",
      "STEP 52\n"
     ]
    },
    {
     "data": {
      "application/vnd.jupyter.widget-view+json": {
       "model_id": "865b0b6a880e457e8b2f34ae8112fd08",
       "version_major": 2,
       "version_minor": 0
      },
      "text/plain": [
       "V step:   0%|          | 0/256 [00:00<?, ?it/s]"
      ]
     },
     "metadata": {},
     "output_type": "display_data"
    },
    {
     "name": "stdout",
     "output_type": "stream",
     "text": [
      "AVG entropy(not correct): 11.316801412539048\n",
      "train loss: 0.054686307907104485\n",
      "STEP 53\n"
     ]
    },
    {
     "data": {
      "application/vnd.jupyter.widget-view+json": {
       "model_id": "890db5d0bbab48d4852c9f75fd3da2de",
       "version_major": 2,
       "version_minor": 0
      },
      "text/plain": [
       "V step:   0%|          | 0/256 [00:00<?, ?it/s]"
      ]
     },
     "metadata": {},
     "output_type": "display_data"
    },
    {
     "name": "stdout",
     "output_type": "stream",
     "text": [
      "AVG entropy(not correct): 11.310864566982566\n",
      "train loss: 0.055930852890014655\n",
      "STEP 54\n"
     ]
    },
    {
     "data": {
      "application/vnd.jupyter.widget-view+json": {
       "model_id": "bb845fee713c4f87a6cd5c89a535896d",
       "version_major": 2,
       "version_minor": 0
      },
      "text/plain": [
       "V step:   0%|          | 0/256 [00:00<?, ?it/s]"
      ]
     },
     "metadata": {},
     "output_type": "display_data"
    },
    {
     "name": "stdout",
     "output_type": "stream",
     "text": [
      "AVG entropy(not correct): 11.304773949183426\n",
      "train loss: 0.05504751205444334\n",
      "STEP 55\n"
     ]
    },
    {
     "data": {
      "application/vnd.jupyter.widget-view+json": {
       "model_id": "42bacab9085d46388890b49ac45d4a4f",
       "version_major": 2,
       "version_minor": 0
      },
      "text/plain": [
       "  0%|          | 0/334 [00:00<?, ?it/s]"
      ]
     },
     "metadata": {},
     "output_type": "display_data"
    },
    {
     "name": "stdout",
     "output_type": "stream",
     "text": [
      "wikitext2 ppl (naive) 9.383028030395508\n"
     ]
    },
    {
     "data": {
      "application/vnd.jupyter.widget-view+json": {
       "model_id": "a191cbc6e8f844ba98a6aef83521b101",
       "version_major": 2,
       "version_minor": 0
      },
      "text/plain": [
       "V step:   0%|          | 0/256 [00:00<?, ?it/s]"
      ]
     },
     "metadata": {},
     "output_type": "display_data"
    },
    {
     "name": "stdout",
     "output_type": "stream",
     "text": [
      "AVG entropy(not correct): 11.296050408443847\n",
      "train loss: 0.05217099189758303\n",
      "STEP 56\n"
     ]
    },
    {
     "data": {
      "application/vnd.jupyter.widget-view+json": {
       "model_id": "5739e9fcec5048f5ab9fd910a6cbb297",
       "version_major": 2,
       "version_minor": 0
      },
      "text/plain": [
       "V step:   0%|          | 0/256 [00:00<?, ?it/s]"
      ]
     },
     "metadata": {},
     "output_type": "display_data"
    },
    {
     "name": "stdout",
     "output_type": "stream",
     "text": [
      "AVG entropy(not correct): 11.2895771373402\n",
      "train loss: 0.05405092239379883\n",
      "STEP 57\n"
     ]
    },
    {
     "data": {
      "application/vnd.jupyter.widget-view+json": {
       "model_id": "c12d2f80da31417fa009a44985589302",
       "version_major": 2,
       "version_minor": 0
      },
      "text/plain": [
       "V step:   0%|          | 0/256 [00:00<?, ?it/s]"
      ]
     },
     "metadata": {},
     "output_type": "display_data"
    },
    {
     "name": "stdout",
     "output_type": "stream",
     "text": [
      "AVG entropy(not correct): 11.281719813099155\n",
      "train loss: 0.05297446250915526\n",
      "STEP 58\n"
     ]
    },
    {
     "data": {
      "application/vnd.jupyter.widget-view+json": {
       "model_id": "33d831e3147240c8b2e607fec7d86f6e",
       "version_major": 2,
       "version_minor": 0
      },
      "text/plain": [
       "V step:   0%|          | 0/256 [00:00<?, ?it/s]"
      ]
     },
     "metadata": {},
     "output_type": "display_data"
    },
    {
     "name": "stdout",
     "output_type": "stream",
     "text": [
      "AVG entropy(not correct): 11.275588824377431\n",
      "train loss: 0.05759191513061526\n",
      "STEP 59\n"
     ]
    },
    {
     "data": {
      "application/vnd.jupyter.widget-view+json": {
       "model_id": "144d18a1369e4f9f9cb134bd7dc716e3",
       "version_major": 2,
       "version_minor": 0
      },
      "text/plain": [
       "V step:   0%|          | 0/256 [00:00<?, ?it/s]"
      ]
     },
     "metadata": {},
     "output_type": "display_data"
    },
    {
     "name": "stdout",
     "output_type": "stream",
     "text": [
      "AVG entropy(not correct): 11.268344926369654\n",
      "train loss: 0.054498195648193345\n",
      "STEP 60\n"
     ]
    },
    {
     "data": {
      "application/vnd.jupyter.widget-view+json": {
       "model_id": "39ba21db226a4c339d92d0977cdc1253",
       "version_major": 2,
       "version_minor": 0
      },
      "text/plain": [
       "  0%|          | 0/334 [00:00<?, ?it/s]"
      ]
     },
     "metadata": {},
     "output_type": "display_data"
    },
    {
     "name": "stdout",
     "output_type": "stream",
     "text": [
      "wikitext2 ppl (naive) 9.380387306213379\n"
     ]
    },
    {
     "data": {
      "application/vnd.jupyter.widget-view+json": {
       "model_id": "6e85ea3630224b86969aa9317e91ce28",
       "version_major": 2,
       "version_minor": 0
      },
      "text/plain": [
       "V step:   0%|          | 0/256 [00:00<?, ?it/s]"
      ]
     },
     "metadata": {},
     "output_type": "display_data"
    },
    {
     "name": "stdout",
     "output_type": "stream",
     "text": [
      "AVG entropy(not correct): 11.259831697135777\n",
      "train loss: 0.05198383331298829\n",
      "STEP 61\n"
     ]
    },
    {
     "data": {
      "application/vnd.jupyter.widget-view+json": {
       "model_id": "3d31d824269e40d3bb50e15d74773bc3",
       "version_major": 2,
       "version_minor": 0
      },
      "text/plain": [
       "V step:   0%|          | 0/256 [00:00<?, ?it/s]"
      ]
     },
     "metadata": {},
     "output_type": "display_data"
    },
    {
     "name": "stdout",
     "output_type": "stream",
     "text": [
      "AVG entropy(not correct): 11.251745244125267\n",
      "train loss: 0.05179178714752198\n",
      "STEP 62\n"
     ]
    },
    {
     "data": {
      "application/vnd.jupyter.widget-view+json": {
       "model_id": "dcb759685b074937a537cbf536319e44",
       "version_major": 2,
       "version_minor": 0
      },
      "text/plain": [
       "V step:   0%|          | 0/256 [00:00<?, ?it/s]"
      ]
     },
     "metadata": {},
     "output_type": "display_data"
    },
    {
     "name": "stdout",
     "output_type": "stream",
     "text": [
      "AVG entropy(not correct): 11.244373007254167\n",
      "train loss: 0.05412602424621584\n",
      "STEP 63\n"
     ]
    },
    {
     "data": {
      "application/vnd.jupyter.widget-view+json": {
       "model_id": "9064067d53324e33b334bc7c520a62e6",
       "version_major": 2,
       "version_minor": 0
      },
      "text/plain": [
       "V step:   0%|          | 0/256 [00:00<?, ?it/s]"
      ]
     },
     "metadata": {},
     "output_type": "display_data"
    },
    {
     "name": "stdout",
     "output_type": "stream",
     "text": [
      "AVG entropy(not correct): 11.238860014197114\n",
      "train loss: 0.05507659912109381\n",
      "STEP 64\n"
     ]
    },
    {
     "data": {
      "application/vnd.jupyter.widget-view+json": {
       "model_id": "32b99f9f01b2497593e0496959631af7",
       "version_major": 2,
       "version_minor": 0
      },
      "text/plain": [
       "V step:   0%|          | 0/256 [00:00<?, ?it/s]"
      ]
     },
     "metadata": {},
     "output_type": "display_data"
    },
    {
     "name": "stdout",
     "output_type": "stream",
     "text": [
      "AVG entropy(not correct): 11.233458646706172\n",
      "train loss: 0.054129123687744106\n",
      "STEP 65\n"
     ]
    },
    {
     "data": {
      "application/vnd.jupyter.widget-view+json": {
       "model_id": "2626d5d642e148099fbbc0c5bcf20096",
       "version_major": 2,
       "version_minor": 0
      },
      "text/plain": [
       "  0%|          | 0/334 [00:00<?, ?it/s]"
      ]
     },
     "metadata": {},
     "output_type": "display_data"
    },
    {
     "name": "stdout",
     "output_type": "stream",
     "text": [
      "wikitext2 ppl (naive) 9.38632869720459\n"
     ]
    },
    {
     "data": {
      "application/vnd.jupyter.widget-view+json": {
       "model_id": "0a3f5e96f3aa4316ac44d463b3af9109",
       "version_major": 2,
       "version_minor": 0
      },
      "text/plain": [
       "V step:   0%|          | 0/256 [00:00<?, ?it/s]"
      ]
     },
     "metadata": {},
     "output_type": "display_data"
    },
    {
     "name": "stdout",
     "output_type": "stream",
     "text": [
      "AVG entropy(not correct): 11.22573727059674\n",
      "train loss: 0.0517113208770752\n",
      "STEP 66\n"
     ]
    },
    {
     "data": {
      "application/vnd.jupyter.widget-view+json": {
       "model_id": "c053f207de1542c5a57d71de9569161e",
       "version_major": 2,
       "version_minor": 0
      },
      "text/plain": [
       "V step:   0%|          | 0/256 [00:00<?, ?it/s]"
      ]
     },
     "metadata": {},
     "output_type": "display_data"
    },
    {
     "name": "stdout",
     "output_type": "stream",
     "text": [
      "AVG entropy(not correct): 11.219516343110568\n",
      "train loss: 0.05326318740844722\n",
      "STEP 67\n"
     ]
    },
    {
     "data": {
      "application/vnd.jupyter.widget-view+json": {
       "model_id": "db1ed349b7054f2898e724531aa03fd8",
       "version_major": 2,
       "version_minor": 0
      },
      "text/plain": [
       "V step:   0%|          | 0/256 [00:00<?, ?it/s]"
      ]
     },
     "metadata": {},
     "output_type": "display_data"
    },
    {
     "name": "stdout",
     "output_type": "stream",
     "text": [
      "AVG entropy(not correct): 11.211917981698916\n",
      "train loss: 0.05244588851928711\n",
      "STEP 68\n"
     ]
    },
    {
     "data": {
      "application/vnd.jupyter.widget-view+json": {
       "model_id": "6cd14645237f4dd0ac7d9fbc6f81938b",
       "version_major": 2,
       "version_minor": 0
      },
      "text/plain": [
       "V step:   0%|          | 0/256 [00:00<?, ?it/s]"
      ]
     },
     "metadata": {},
     "output_type": "display_data"
    },
    {
     "name": "stdout",
     "output_type": "stream",
     "text": [
      "AVG entropy(not correct): 11.206292184916409\n",
      "train loss: 0.05673456192016598\n",
      "STEP 69\n"
     ]
    },
    {
     "data": {
      "application/vnd.jupyter.widget-view+json": {
       "model_id": "757f274e58ff4b868f5fc922540f5f7d",
       "version_major": 2,
       "version_minor": 0
      },
      "text/plain": [
       "V step:   0%|          | 0/256 [00:00<?, ?it/s]"
      ]
     },
     "metadata": {},
     "output_type": "display_data"
    },
    {
     "name": "stdout",
     "output_type": "stream",
     "text": [
      "AVG entropy(not correct): 11.199693912035459\n",
      "train loss: 0.05378937721252441\n",
      "STEP 70\n"
     ]
    },
    {
     "data": {
      "application/vnd.jupyter.widget-view+json": {
       "model_id": "a3632f578bff43ae93985a9d06d19256",
       "version_major": 2,
       "version_minor": 0
      },
      "text/plain": [
       "  0%|          | 0/334 [00:00<?, ?it/s]"
      ]
     },
     "metadata": {},
     "output_type": "display_data"
    },
    {
     "name": "stdout",
     "output_type": "stream",
     "text": [
      "wikitext2 ppl (naive) 9.38632869720459\n"
     ]
    },
    {
     "data": {
      "application/vnd.jupyter.widget-view+json": {
       "model_id": "c15ca3232964444c811e0c6330ebcc0e",
       "version_major": 2,
       "version_minor": 0
      },
      "text/plain": [
       "V step:   0%|          | 0/256 [00:00<?, ?it/s]"
      ]
     },
     "metadata": {},
     "output_type": "display_data"
    },
    {
     "name": "stdout",
     "output_type": "stream",
     "text": [
      "AVG entropy(not correct): 11.191277806635027\n",
      "train loss: 0.051712036132812486\n",
      "STEP 71\n"
     ]
    },
    {
     "data": {
      "application/vnd.jupyter.widget-view+json": {
       "model_id": "d36278741ade4ee9a891e654d48a5e50",
       "version_major": 2,
       "version_minor": 0
      },
      "text/plain": [
       "V step:   0%|          | 0/256 [00:00<?, ?it/s]"
      ]
     },
     "metadata": {},
     "output_type": "display_data"
    },
    {
     "name": "stdout",
     "output_type": "stream",
     "text": [
      "AVG entropy(not correct): 11.183617436266564\n",
      "train loss: 0.05144119262695309\n",
      "STEP 72\n"
     ]
    },
    {
     "data": {
      "application/vnd.jupyter.widget-view+json": {
       "model_id": "996226da58d0411d9898c8ee83fd4653",
       "version_major": 2,
       "version_minor": 0
      },
      "text/plain": [
       "V step:   0%|          | 0/256 [00:00<?, ?it/s]"
      ]
     },
     "metadata": {},
     "output_type": "display_data"
    },
    {
     "name": "stdout",
     "output_type": "stream",
     "text": [
      "AVG entropy(not correct): 11.177017184821041\n",
      "train loss: 0.053826332092285115\n",
      "STEP 73\n"
     ]
    },
    {
     "data": {
      "application/vnd.jupyter.widget-view+json": {
       "model_id": "e4fec7c2620342d28545b786368bc0c4",
       "version_major": 2,
       "version_minor": 0
      },
      "text/plain": [
       "V step:   0%|          | 0/256 [00:00<?, ?it/s]"
      ]
     },
     "metadata": {},
     "output_type": "display_data"
    },
    {
     "name": "stdout",
     "output_type": "stream",
     "text": [
      "AVG entropy(not correct): 11.171734112423735\n",
      "train loss: 0.054486989974975586\n",
      "STEP 74\n"
     ]
    },
    {
     "data": {
      "application/vnd.jupyter.widget-view+json": {
       "model_id": "e3402a01145e460bacc1cb50a3df58e9",
       "version_major": 2,
       "version_minor": 0
      },
      "text/plain": [
       "V step:   0%|          | 0/256 [00:00<?, ?it/s]"
      ]
     },
     "metadata": {},
     "output_type": "display_data"
    },
    {
     "name": "stdout",
     "output_type": "stream",
     "text": [
      "AVG entropy(not correct): 11.16693785593107\n",
      "train loss: 0.053730964660644545\n",
      "STEP 75\n"
     ]
    },
    {
     "data": {
      "application/vnd.jupyter.widget-view+json": {
       "model_id": "91144548e1924ad68c59b5dd66413a39",
       "version_major": 2,
       "version_minor": 0
      },
      "text/plain": [
       "  0%|          | 0/334 [00:00<?, ?it/s]"
      ]
     },
     "metadata": {},
     "output_type": "display_data"
    },
    {
     "name": "stdout",
     "output_type": "stream",
     "text": [
      "wikitext2 ppl (naive) 9.380826950073242\n"
     ]
    },
    {
     "data": {
      "application/vnd.jupyter.widget-view+json": {
       "model_id": "b406ae71bab84b728c81fd383facd542",
       "version_major": 2,
       "version_minor": 0
      },
      "text/plain": [
       "V step:   0%|          | 0/256 [00:00<?, ?it/s]"
      ]
     },
     "metadata": {},
     "output_type": "display_data"
    },
    {
     "name": "stdout",
     "output_type": "stream",
     "text": [
      "AVG entropy(not correct): 11.160753623231665\n",
      "train loss: 0.051517248153686516\n",
      "STEP 76\n"
     ]
    },
    {
     "data": {
      "application/vnd.jupyter.widget-view+json": {
       "model_id": "5fd994a13dd341c2b5695251f6420243",
       "version_major": 2,
       "version_minor": 0
      },
      "text/plain": [
       "V step:   0%|          | 0/256 [00:00<?, ?it/s]"
      ]
     },
     "metadata": {},
     "output_type": "display_data"
    },
    {
     "name": "stdout",
     "output_type": "stream",
     "text": [
      "AVG entropy(not correct): 11.155190456997264\n",
      "train loss: 0.052867889404296854\n",
      "STEP 77\n"
     ]
    },
    {
     "data": {
      "application/vnd.jupyter.widget-view+json": {
       "model_id": "4c8b1800552845738dd18550d573faf2",
       "version_major": 2,
       "version_minor": 0
      },
      "text/plain": [
       "V step:   0%|          | 0/256 [00:00<?, ?it/s]"
      ]
     },
     "metadata": {},
     "output_type": "display_data"
    },
    {
     "name": "stdout",
     "output_type": "stream",
     "text": [
      "AVG entropy(not correct): 11.148332495193976\n",
      "train loss: 0.05214166641235354\n",
      "STEP 78\n"
     ]
    },
    {
     "data": {
      "application/vnd.jupyter.widget-view+json": {
       "model_id": "c2c51cb7e8704d5db539fbb59d0b4ef6",
       "version_major": 2,
       "version_minor": 0
      },
      "text/plain": [
       "V step:   0%|          | 0/256 [00:00<?, ?it/s]"
      ]
     },
     "metadata": {},
     "output_type": "display_data"
    },
    {
     "name": "stdout",
     "output_type": "stream",
     "text": [
      "AVG entropy(not correct): 11.143033811798343\n",
      "train loss: 0.056145668029785156\n",
      "STEP 79\n"
     ]
    },
    {
     "data": {
      "application/vnd.jupyter.widget-view+json": {
       "model_id": "bdd5c9550c5c4f5ea07a70c0eb646149",
       "version_major": 2,
       "version_minor": 0
      },
      "text/plain": [
       "V step:   0%|          | 0/256 [00:00<?, ?it/s]"
      ]
     },
     "metadata": {},
     "output_type": "display_data"
    },
    {
     "name": "stdout",
     "output_type": "stream",
     "text": [
      "AVG entropy(not correct): 11.136988630542508\n",
      "train loss: 0.05347609519958501\n",
      "STEP 80\n"
     ]
    },
    {
     "data": {
      "application/vnd.jupyter.widget-view+json": {
       "model_id": "1ffbb3c69a7f4dd09b8dda1da9f46dbc",
       "version_major": 2,
       "version_minor": 0
      },
      "text/plain": [
       "  0%|          | 0/334 [00:00<?, ?it/s]"
      ]
     },
     "metadata": {},
     "output_type": "display_data"
    },
    {
     "name": "stdout",
     "output_type": "stream",
     "text": [
      "wikitext2 ppl (naive) 9.387870788574219\n"
     ]
    },
    {
     "data": {
      "application/vnd.jupyter.widget-view+json": {
       "model_id": "8d9ac9e751a2403398ff1593da2981c9",
       "version_major": 2,
       "version_minor": 0
      },
      "text/plain": [
       "V step:   0%|          | 0/256 [00:00<?, ?it/s]"
      ]
     },
     "metadata": {},
     "output_type": "display_data"
    },
    {
     "name": "stdout",
     "output_type": "stream",
     "text": [
      "AVG entropy(not correct): 11.130043782197037\n",
      "train loss: 0.05164766311645509\n",
      "STEP 81\n"
     ]
    },
    {
     "data": {
      "application/vnd.jupyter.widget-view+json": {
       "model_id": "8bb96c2e01ce4a858b89f7435d4f47b5",
       "version_major": 2,
       "version_minor": 0
      },
      "text/plain": [
       "V step:   0%|          | 0/256 [00:00<?, ?it/s]"
      ]
     },
     "metadata": {},
     "output_type": "display_data"
    },
    {
     "name": "stdout",
     "output_type": "stream",
     "text": [
      "AVG entropy(not correct): 11.12335298897384\n",
      "train loss: 0.05125093460083002\n",
      "STEP 82\n"
     ]
    },
    {
     "data": {
      "application/vnd.jupyter.widget-view+json": {
       "model_id": "18c397e0bc5e40d79c18d33a17273c04",
       "version_major": 2,
       "version_minor": 0
      },
      "text/plain": [
       "V step:   0%|          | 0/256 [00:00<?, ?it/s]"
      ]
     },
     "metadata": {},
     "output_type": "display_data"
    },
    {
     "name": "stdout",
     "output_type": "stream",
     "text": [
      "AVG entropy(not correct): 11.117137740184734\n",
      "train loss: 0.053523540496826144\n",
      "STEP 83\n"
     ]
    },
    {
     "data": {
      "application/vnd.jupyter.widget-view+json": {
       "model_id": "345fb7eb90ec452db15173bb7fdcebe2",
       "version_major": 2,
       "version_minor": 0
      },
      "text/plain": [
       "V step:   0%|          | 0/256 [00:00<?, ?it/s]"
      ]
     },
     "metadata": {},
     "output_type": "display_data"
    },
    {
     "name": "stdout",
     "output_type": "stream",
     "text": [
      "AVG entropy(not correct): 11.112061056997868\n",
      "train loss: 0.054040908813476556\n",
      "STEP 84\n"
     ]
    },
    {
     "data": {
      "application/vnd.jupyter.widget-view+json": {
       "model_id": "bc13d4275edb4e81a9163a646d18668a",
       "version_major": 2,
       "version_minor": 0
      },
      "text/plain": [
       "V step:   0%|          | 0/256 [00:00<?, ?it/s]"
      ]
     },
     "metadata": {},
     "output_type": "display_data"
    },
    {
     "name": "stdout",
     "output_type": "stream",
     "text": [
      "AVG entropy(not correct): 11.094268875462669\n",
      "train loss: 0.052485227584838895\n",
      "STEP 87\n"
     ]
    },
    {
     "data": {
      "application/vnd.jupyter.widget-view+json": {
       "model_id": "a782bd91c0534873a90bcf014632b98c",
       "version_major": 2,
       "version_minor": 0
      },
      "text/plain": [
       "V step:   0%|          | 0/256 [00:00<?, ?it/s]"
      ]
     },
     "metadata": {},
     "output_type": "display_data"
    },
    {
     "name": "stdout",
     "output_type": "stream",
     "text": [
      "AVG entropy(not correct): 11.087587050803297\n",
      "train loss: 0.052059650421142516\n",
      "STEP 88\n"
     ]
    },
    {
     "data": {
      "application/vnd.jupyter.widget-view+json": {
       "model_id": "2e40d685b4444646910853881e3bffcb",
       "version_major": 2,
       "version_minor": 0
      },
      "text/plain": [
       "V step:   0%|          | 0/256 [00:00<?, ?it/s]"
      ]
     },
     "metadata": {},
     "output_type": "display_data"
    },
    {
     "name": "stdout",
     "output_type": "stream",
     "text": [
      "AVG entropy(not correct): 11.082476738211396\n",
      "train loss: 0.05571031570434573\n",
      "STEP 89\n"
     ]
    },
    {
     "data": {
      "application/vnd.jupyter.widget-view+json": {
       "model_id": "82bf1a521a7b4239a251774dff94a5c0",
       "version_major": 2,
       "version_minor": 0
      },
      "text/plain": [
       "V step:   0%|          | 0/256 [00:00<?, ?it/s]"
      ]
     },
     "metadata": {},
     "output_type": "display_data"
    },
    {
     "name": "stdout",
     "output_type": "stream",
     "text": [
      "AVG entropy(not correct): 11.076538381638464\n",
      "train loss: 0.0532722473144531\n",
      "STEP 90\n"
     ]
    },
    {
     "data": {
      "application/vnd.jupyter.widget-view+json": {
       "model_id": "461709950b5748d9b31778e3575d3728",
       "version_major": 2,
       "version_minor": 0
      },
      "text/plain": [
       "  0%|          | 0/334 [00:00<?, ?it/s]"
      ]
     },
     "metadata": {},
     "output_type": "display_data"
    },
    {
     "name": "stdout",
     "output_type": "stream",
     "text": [
      "wikitext2 ppl (naive) 9.407485008239746\n"
     ]
    },
    {
     "data": {
      "application/vnd.jupyter.widget-view+json": {
       "model_id": "5e340713f2ab4727aee5cbe2725d3416",
       "version_major": 2,
       "version_minor": 0
      },
      "text/plain": [
       "V step:   0%|          | 0/256 [00:00<?, ?it/s]"
      ]
     },
     "metadata": {},
     "output_type": "display_data"
    },
    {
     "name": "stderr",
     "output_type": "stream",
     "text": [
      "IOPub message rate exceeded.\n",
      "The notebook server will temporarily stop sending output\n",
      "to the client in order to avoid crashing it.\n",
      "To change this limit, set the config variable\n",
      "`--NotebookApp.iopub_msg_rate_limit`.\n",
      "\n",
      "Current values:\n",
      "NotebookApp.iopub_msg_rate_limit=1000.0 (msgs/sec)\n",
      "NotebookApp.rate_limit_window=3.0 (secs)\n",
      "\n"
     ]
    },
    {
     "name": "stdout",
     "output_type": "stream",
     "text": [
      "AVG entropy(not correct): 11.0294001187597\n",
      "train loss: 0.052009582519531236\n",
      "STEP 98\n"
     ]
    },
    {
     "data": {
      "application/vnd.jupyter.widget-view+json": {
       "model_id": "32a93519ad9449ed90108debc9710600",
       "version_major": 2,
       "version_minor": 0
      },
      "text/plain": [
       "V step:   0%|          | 0/256 [00:00<?, ?it/s]"
      ]
     },
     "metadata": {},
     "output_type": "display_data"
    },
    {
     "name": "stderr",
     "output_type": "stream",
     "text": [
      "IOPub message rate exceeded.\n",
      "The notebook server will temporarily stop sending output\n",
      "to the client in order to avoid crashing it.\n",
      "To change this limit, set the config variable\n",
      "`--NotebookApp.iopub_msg_rate_limit`.\n",
      "\n",
      "Current values:\n",
      "NotebookApp.iopub_msg_rate_limit=1000.0 (msgs/sec)\n",
      "NotebookApp.rate_limit_window=3.0 (secs)\n",
      "\n"
     ]
    },
    {
     "name": "stdout",
     "output_type": "stream",
     "text": [
      "AVG entropy(not correct): 11.012532707545665\n",
      "train loss: 0.05187845230102536\n",
      "STEP 101\n"
     ]
    },
    {
     "data": {
      "application/vnd.jupyter.widget-view+json": {
       "model_id": "bed8e675e084414194d1c094d1b360f6",
       "version_major": 2,
       "version_minor": 0
      },
      "text/plain": [
       "V step:   0%|          | 0/256 [00:00<?, ?it/s]"
      ]
     },
     "metadata": {},
     "output_type": "display_data"
    },
    {
     "name": "stderr",
     "output_type": "stream",
     "text": [
      "IOPub message rate exceeded.\n",
      "The notebook server will temporarily stop sending output\n",
      "to the client in order to avoid crashing it.\n",
      "To change this limit, set the config variable\n",
      "`--NotebookApp.iopub_msg_rate_limit`.\n",
      "\n",
      "Current values:\n",
      "NotebookApp.iopub_msg_rate_limit=1000.0 (msgs/sec)\n",
      "NotebookApp.rate_limit_window=3.0 (secs)\n",
      "\n"
     ]
    },
    {
     "name": "stdout",
     "output_type": "stream",
     "text": [
      "AVG entropy(not correct): 11.006412257621815\n",
      "train loss: 0.05126881599426271\n",
      "STEP 102\n"
     ]
    },
    {
     "data": {
      "application/vnd.jupyter.widget-view+json": {
       "model_id": "0aa770081c2e49be954c21dbce1e2d6a",
       "version_major": 2,
       "version_minor": 0
      },
      "text/plain": [
       "V step:   0%|          | 0/256 [00:00<?, ?it/s]"
      ]
     },
     "metadata": {},
     "output_type": "display_data"
    },
    {
     "name": "stdout",
     "output_type": "stream",
     "text": [
      "AVG entropy(not correct): 11.000609243070924\n",
      "train loss: 0.05353665351867671\n",
      "STEP 103\n"
     ]
    },
    {
     "data": {
      "application/vnd.jupyter.widget-view+json": {
       "model_id": "90db05114e1f44418b238c290785979b",
       "version_major": 2,
       "version_minor": 0
      },
      "text/plain": [
       "V step:   0%|          | 0/256 [00:00<?, ?it/s]"
      ]
     },
     "metadata": {},
     "output_type": "display_data"
    },
    {
     "name": "stdout",
     "output_type": "stream",
     "text": [
      "AVG entropy(not correct): 10.995949697184873\n",
      "train loss: 0.053774595260620124\n",
      "STEP 104\n"
     ]
    },
    {
     "data": {
      "application/vnd.jupyter.widget-view+json": {
       "model_id": "23d5f3608a0e429083e87cbcc81ea971",
       "version_major": 2,
       "version_minor": 0
      },
      "text/plain": [
       "V step:   0%|          | 0/256 [00:00<?, ?it/s]"
      ]
     },
     "metadata": {},
     "output_type": "display_data"
    },
    {
     "name": "stdout",
     "output_type": "stream",
     "text": [
      "AVG entropy(not correct): 10.99118942564184\n",
      "train loss: 0.05284261703491211\n",
      "STEP 105\n"
     ]
    },
    {
     "data": {
      "application/vnd.jupyter.widget-view+json": {
       "model_id": "9370267d8f1f45ec8d7e389f0ba9466f",
       "version_major": 2,
       "version_minor": 0
      },
      "text/plain": [
       "  0%|          | 0/334 [00:00<?, ?it/s]"
      ]
     },
     "metadata": {},
     "output_type": "display_data"
    },
    {
     "name": "stdout",
     "output_type": "stream",
     "text": [
      "wikitext2 ppl (naive) 9.430898666381836\n"
     ]
    },
    {
     "data": {
      "application/vnd.jupyter.widget-view+json": {
       "model_id": "cfae76c801f0492883c36495f521c74a",
       "version_major": 2,
       "version_minor": 0
      },
      "text/plain": [
       "V step:   0%|          | 0/256 [00:00<?, ?it/s]"
      ]
     },
     "metadata": {},
     "output_type": "display_data"
    },
    {
     "name": "stdout",
     "output_type": "stream",
     "text": [
      "AVG entropy(not correct): 10.985397671724295\n",
      "train loss: 0.05131173133850098\n",
      "STEP 106\n"
     ]
    },
    {
     "data": {
      "application/vnd.jupyter.widget-view+json": {
       "model_id": "0263ef197c074729a6949a6960235f57",
       "version_major": 2,
       "version_minor": 0
      },
      "text/plain": [
       "V step:   0%|          | 0/256 [00:00<?, ?it/s]"
      ]
     },
     "metadata": {},
     "output_type": "display_data"
    },
    {
     "name": "stdout",
     "output_type": "stream",
     "text": [
      "AVG entropy(not correct): 10.980260792490723\n",
      "train loss: 0.05224490165710446\n",
      "STEP 107\n"
     ]
    },
    {
     "data": {
      "application/vnd.jupyter.widget-view+json": {
       "model_id": "bf4d39e9e7ea46e09432c851f2cb27a9",
       "version_major": 2,
       "version_minor": 0
      },
      "text/plain": [
       "V step:   0%|          | 0/256 [00:00<?, ?it/s]"
      ]
     },
     "metadata": {},
     "output_type": "display_data"
    },
    {
     "name": "stdout",
     "output_type": "stream",
     "text": [
      "AVG entropy(not correct): 10.974208893714014\n",
      "train loss: 0.05211257934570312\n",
      "STEP 108\n"
     ]
    },
    {
     "data": {
      "application/vnd.jupyter.widget-view+json": {
       "model_id": "d88dc2ee98734e81a7c70205ed51867c",
       "version_major": 2,
       "version_minor": 0
      },
      "text/plain": [
       "V step:   0%|          | 0/256 [00:00<?, ?it/s]"
      ]
     },
     "metadata": {},
     "output_type": "display_data"
    },
    {
     "name": "stdout",
     "output_type": "stream",
     "text": [
      "AVG entropy(not correct): 10.969726030315671\n",
      "train loss: 0.05549669265747071\n",
      "STEP 109\n"
     ]
    },
    {
     "data": {
      "application/vnd.jupyter.widget-view+json": {
       "model_id": "54cb9e0f2d9b44249dd33a20bc0e24b5",
       "version_major": 2,
       "version_minor": 0
      },
      "text/plain": [
       "V step:   0%|          | 0/256 [00:00<?, ?it/s]"
      ]
     },
     "metadata": {},
     "output_type": "display_data"
    },
    {
     "name": "stdout",
     "output_type": "stream",
     "text": [
      "AVG entropy(not correct): 10.96444815706897\n",
      "train loss: 0.05301833152770999\n",
      "STEP 110\n"
     ]
    },
    {
     "data": {
      "application/vnd.jupyter.widget-view+json": {
       "model_id": "0e3ac77e0dea4c5487f777f599d8a12f",
       "version_major": 2,
       "version_minor": 0
      },
      "text/plain": [
       "  0%|          | 0/334 [00:00<?, ?it/s]"
      ]
     },
     "metadata": {},
     "output_type": "display_data"
    },
    {
     "name": "stdout",
     "output_type": "stream",
     "text": [
      "wikitext2 ppl (naive) 9.440855979919434\n"
     ]
    },
    {
     "data": {
      "application/vnd.jupyter.widget-view+json": {
       "model_id": "f815eb183ffa4c78bb686ddf5024c6f3",
       "version_major": 2,
       "version_minor": 0
      },
      "text/plain": [
       "V step:   0%|          | 0/256 [00:00<?, ?it/s]"
      ]
     },
     "metadata": {},
     "output_type": "display_data"
    },
    {
     "name": "stdout",
     "output_type": "stream",
     "text": [
      "AVG entropy(not correct): 10.958436148507255\n",
      "train loss: 0.05205154418945316\n",
      "STEP 111\n"
     ]
    },
    {
     "data": {
      "application/vnd.jupyter.widget-view+json": {
       "model_id": "493ba16675d04971bf8d7abc0d7e7dff",
       "version_major": 2,
       "version_minor": 0
      },
      "text/plain": [
       "V step:   0%|          | 0/256 [00:00<?, ?it/s]"
      ]
     },
     "metadata": {},
     "output_type": "display_data"
    },
    {
     "name": "stdout",
     "output_type": "stream",
     "text": [
      "AVG entropy(not correct): 10.952791071944423\n",
      "train loss: 0.05138242244720459\n",
      "STEP 112\n"
     ]
    },
    {
     "data": {
      "application/vnd.jupyter.widget-view+json": {
       "model_id": "1856bfb0e0d34d41bb0edc5f42d51978",
       "version_major": 2,
       "version_minor": 0
      },
      "text/plain": [
       "V step:   0%|          | 0/256 [00:00<?, ?it/s]"
      ]
     },
     "metadata": {},
     "output_type": "display_data"
    },
    {
     "name": "stdout",
     "output_type": "stream",
     "text": [
      "AVG entropy(not correct): 10.94752738731248\n",
      "train loss: 0.053606033325195264\n",
      "STEP 113\n"
     ]
    },
    {
     "data": {
      "application/vnd.jupyter.widget-view+json": {
       "model_id": "453d9af6d8594afdb5f52727dc1a66dd",
       "version_major": 2,
       "version_minor": 0
      },
      "text/plain": [
       "V step:   0%|          | 0/256 [00:00<?, ?it/s]"
      ]
     },
     "metadata": {},
     "output_type": "display_data"
    },
    {
     "name": "stdout",
     "output_type": "stream",
     "text": [
      "AVG entropy(not correct): 10.943471684858396\n",
      "train loss: 0.05377602577209468\n",
      "STEP 114\n"
     ]
    },
    {
     "data": {
      "application/vnd.jupyter.widget-view+json": {
       "model_id": "4d006d74aac4450ba4918aec2c9b7968",
       "version_major": 2,
       "version_minor": 0
      },
      "text/plain": [
       "V step:   0%|          | 0/256 [00:00<?, ?it/s]"
      ]
     },
     "metadata": {},
     "output_type": "display_data"
    },
    {
     "name": "stdout",
     "output_type": "stream",
     "text": [
      "AVG entropy(not correct): 10.939038926904852\n",
      "train loss: 0.05282044410705567\n",
      "STEP 115\n"
     ]
    },
    {
     "data": {
      "application/vnd.jupyter.widget-view+json": {
       "model_id": "5ceb4bd3a84d4b68b5526fba027afa86",
       "version_major": 2,
       "version_minor": 0
      },
      "text/plain": [
       "  0%|          | 0/334 [00:00<?, ?it/s]"
      ]
     },
     "metadata": {},
     "output_type": "display_data"
    },
    {
     "name": "stdout",
     "output_type": "stream",
     "text": [
      "wikitext2 ppl (naive) 9.465462684631348\n"
     ]
    },
    {
     "data": {
      "application/vnd.jupyter.widget-view+json": {
       "model_id": "95fbdf7bbe2e4caca9739e9db9e7fea9",
       "version_major": 2,
       "version_minor": 0
      },
      "text/plain": [
       "V step:   0%|          | 0/256 [00:00<?, ?it/s]"
      ]
     },
     "metadata": {},
     "output_type": "display_data"
    },
    {
     "name": "stdout",
     "output_type": "stream",
     "text": [
      "AVG entropy(not correct): 10.933755421406262\n",
      "train loss: 0.0513637065887451\n",
      "STEP 116\n"
     ]
    },
    {
     "data": {
      "application/vnd.jupyter.widget-view+json": {
       "model_id": "bfe1648230d448488b8a456716848760",
       "version_major": 2,
       "version_minor": 0
      },
      "text/plain": [
       "V step:   0%|          | 0/256 [00:00<?, ?it/s]"
      ]
     },
     "metadata": {},
     "output_type": "display_data"
    },
    {
     "name": "stdout",
     "output_type": "stream",
     "text": [
      "AVG entropy(not correct): 10.928740208025102\n",
      "train loss: 0.05222773551940913\n",
      "STEP 117\n"
     ]
    },
    {
     "data": {
      "application/vnd.jupyter.widget-view+json": {
       "model_id": "f663d54a46a0499191aefa3a02e138f5",
       "version_major": 2,
       "version_minor": 0
      },
      "text/plain": [
       "V step:   0%|          | 0/256 [00:00<?, ?it/s]"
      ]
     },
     "metadata": {},
     "output_type": "display_data"
    },
    {
     "name": "stdout",
     "output_type": "stream",
     "text": [
      "AVG entropy(not correct): 10.923284073154647\n",
      "train loss: 0.05212020874023433\n",
      "STEP 118\n"
     ]
    },
    {
     "data": {
      "application/vnd.jupyter.widget-view+json": {
       "model_id": "2f69051a4b0846bc90f7ffd2a79b39fa",
       "version_major": 2,
       "version_minor": 0
      },
      "text/plain": [
       "V step:   0%|          | 0/256 [00:00<?, ?it/s]"
      ]
     },
     "metadata": {},
     "output_type": "display_data"
    },
    {
     "name": "stdout",
     "output_type": "stream",
     "text": [
      "AVG entropy(not correct): 10.919261623125571\n",
      "train loss: 0.05549812316894534\n",
      "STEP 119\n"
     ]
    },
    {
     "data": {
      "application/vnd.jupyter.widget-view+json": {
       "model_id": "781a57fdab904d808fef710472219fbb",
       "version_major": 2,
       "version_minor": 0
      },
      "text/plain": [
       "V step:   0%|          | 0/256 [00:00<?, ?it/s]"
      ]
     },
     "metadata": {},
     "output_type": "display_data"
    },
    {
     "name": "stdout",
     "output_type": "stream",
     "text": [
      "AVG entropy(not correct): 10.91446958308096\n",
      "train loss: 0.05308294296264649\n",
      "STEP 120\n"
     ]
    },
    {
     "data": {
      "application/vnd.jupyter.widget-view+json": {
       "model_id": "d5e7d9b6fe784e73a3866e539d911949",
       "version_major": 2,
       "version_minor": 0
      },
      "text/plain": [
       "  0%|          | 0/334 [00:00<?, ?it/s]"
      ]
     },
     "metadata": {},
     "output_type": "display_data"
    },
    {
     "name": "stdout",
     "output_type": "stream",
     "text": [
      "wikitext2 ppl (naive) 9.47590160369873\n"
     ]
    },
    {
     "data": {
      "application/vnd.jupyter.widget-view+json": {
       "model_id": "5e4a3afbd7814d20a105c3d051d73cac",
       "version_major": 2,
       "version_minor": 0
      },
      "text/plain": [
       "V step:   0%|          | 0/256 [00:00<?, ?it/s]"
      ]
     },
     "metadata": {},
     "output_type": "display_data"
    },
    {
     "name": "stdout",
     "output_type": "stream",
     "text": [
      "AVG entropy(not correct): 10.908913285701306\n",
      "train loss: 0.052261829376220696\n",
      "STEP 121\n"
     ]
    },
    {
     "data": {
      "application/vnd.jupyter.widget-view+json": {
       "model_id": "64bfa07b43e4483bb588f5ca810a4a5f",
       "version_major": 2,
       "version_minor": 0
      },
      "text/plain": [
       "V step:   0%|          | 0/256 [00:00<?, ?it/s]"
      ]
     },
     "metadata": {},
     "output_type": "display_data"
    },
    {
     "name": "stdout",
     "output_type": "stream",
     "text": [
      "AVG entropy(not correct): 10.903864857825367\n",
      "train loss: 0.0515758991241455\n",
      "STEP 122\n"
     ]
    },
    {
     "data": {
      "application/vnd.jupyter.widget-view+json": {
       "model_id": "40e460555b434f0eb3d1129e0d5dce11",
       "version_major": 2,
       "version_minor": 0
      },
      "text/plain": [
       "V step:   0%|          | 0/256 [00:00<?, ?it/s]"
      ]
     },
     "metadata": {},
     "output_type": "display_data"
    },
    {
     "name": "stdout",
     "output_type": "stream",
     "text": [
      "AVG entropy(not correct): 10.89935490372893\n",
      "train loss: 0.053729772567749\n",
      "STEP 123\n"
     ]
    },
    {
     "data": {
      "application/vnd.jupyter.widget-view+json": {
       "model_id": "3b4174513a4d44b2828e92f840453363",
       "version_major": 2,
       "version_minor": 0
      },
      "text/plain": [
       "V step:   0%|          | 0/256 [00:00<?, ?it/s]"
      ]
     },
     "metadata": {},
     "output_type": "display_data"
    },
    {
     "name": "stdout",
     "output_type": "stream",
     "text": [
      "AVG entropy(not correct): 10.895472312128389\n",
      "train loss: 0.053804397583007826\n",
      "STEP 124\n"
     ]
    },
    {
     "data": {
      "application/vnd.jupyter.widget-view+json": {
       "model_id": "a66e819b30344caa88b42ba65df7a14b",
       "version_major": 2,
       "version_minor": 0
      },
      "text/plain": [
       "V step:   0%|          | 0/256 [00:00<?, ?it/s]"
      ]
     },
     "metadata": {},
     "output_type": "display_data"
    },
    {
     "name": "stdout",
     "output_type": "stream",
     "text": [
      "AVG entropy(not correct): 10.882864313079166\n",
      "train loss: 0.05238080024719237\n",
      "STEP 127\n"
     ]
    },
    {
     "data": {
      "application/vnd.jupyter.widget-view+json": {
       "model_id": "6153c764e08b4e189a2f6b0916c97077",
       "version_major": 2,
       "version_minor": 0
      },
      "text/plain": [
       "V step:   0%|          | 0/256 [00:00<?, ?it/s]"
      ]
     },
     "metadata": {},
     "output_type": "display_data"
    },
    {
     "name": "stdout",
     "output_type": "stream",
     "text": [
      "AVG entropy(not correct): 10.878383050491284\n",
      "train loss: 0.052263259887695306\n",
      "STEP 128\n"
     ]
    },
    {
     "data": {
      "application/vnd.jupyter.widget-view+json": {
       "model_id": "19a3401b813d4fe191abc7f66002b56e",
       "version_major": 2,
       "version_minor": 0
      },
      "text/plain": [
       "V step:   0%|          | 0/256 [00:00<?, ?it/s]"
      ]
     },
     "metadata": {},
     "output_type": "display_data"
    },
    {
     "name": "stdout",
     "output_type": "stream",
     "text": [
      "AVG entropy(not correct): 10.8745771936782\n",
      "train loss: 0.05533075332641603\n",
      "STEP 129\n"
     ]
    },
    {
     "data": {
      "application/vnd.jupyter.widget-view+json": {
       "model_id": "5407f13daebc4d74a9ff870b5e1d1edb",
       "version_major": 2,
       "version_minor": 0
      },
      "text/plain": [
       "V step:   0%|          | 0/256 [00:00<?, ?it/s]"
      ]
     },
     "metadata": {},
     "output_type": "display_data"
    },
    {
     "name": "stdout",
     "output_type": "stream",
     "text": [
      "AVG entropy(not correct): 10.870225260010013\n",
      "train loss: 0.05309629440307616\n",
      "STEP 130\n"
     ]
    },
    {
     "data": {
      "application/vnd.jupyter.widget-view+json": {
       "model_id": "eb3fc6e434db44d48f82fd64c1ebdb0c",
       "version_major": 2,
       "version_minor": 0
      },
      "text/plain": [
       "  0%|          | 0/334 [00:00<?, ?it/s]"
      ]
     },
     "metadata": {},
     "output_type": "display_data"
    },
    {
     "name": "stdout",
     "output_type": "stream",
     "text": [
      "wikitext2 ppl (naive) 9.4810152053833\n"
     ]
    },
    {
     "data": {
      "application/vnd.jupyter.widget-view+json": {
       "model_id": "204a22aa555143ceaa1576c3be034056",
       "version_major": 2,
       "version_minor": 0
      },
      "text/plain": [
       "V step:   0%|          | 0/256 [00:00<?, ?it/s]"
      ]
     },
     "metadata": {},
     "output_type": "display_data"
    },
    {
     "name": "stderr",
     "output_type": "stream",
     "text": [
      "IOPub message rate exceeded.\n",
      "The notebook server will temporarily stop sending output\n",
      "to the client in order to avoid crashing it.\n",
      "To change this limit, set the config variable\n",
      "`--NotebookApp.iopub_msg_rate_limit`.\n",
      "\n",
      "Current values:\n",
      "NotebookApp.iopub_msg_rate_limit=1000.0 (msgs/sec)\n",
      "NotebookApp.rate_limit_window=3.0 (secs)\n",
      "\n"
     ]
    }
   ],
   "source": [
    "# optimizer.verbose = True\n",
    "for i in range(5000):\n",
    "    print(\"STEP\", i)\n",
    "    if i % 5 == 0:\n",
    "        ppl_eval_score = eval_ppl_naive(dequantized_model, eval_data).item()\n",
    "        print(\"wikitext2 ppl (naive)\", ppl_eval_score)\n",
    "#         run.log({\"wikitext2 ppl (naive)\": ppl_eval_score},step=i)\n",
    "    v_step_train_loss = _run_one_step(args, base_model, dequantized_model, optimizer, next_train_data())\n",
    "    print(\"train loss:\", v_step_train_loss)\n",
    "    run.log({\"train loss\": v_step_train_loss, \"wikitext2 ppl (naive)\": ppl_eval_score},step=i+1)\n"
   ]
  },
  {
   "cell_type": "code",
   "execution_count": 15,
   "id": "8169418a",
   "metadata": {},
   "outputs": [],
   "source": [
    "print(1)"
   ]
  },
  {
   "cell_type": "code",
   "execution_count": null,
   "id": "51d34ed4",
   "metadata": {},
   "outputs": [],
   "source": []
  }
 ],
 "metadata": {
  "kernelspec": {
   "display_name": "Python 3 (ipykernel)",
   "language": "python",
   "name": "python3"
  },
  "language_info": {
   "codemirror_mode": {
    "name": "ipython",
    "version": 3
   },
   "file_extension": ".py",
   "mimetype": "text/x-python",
   "name": "python",
   "nbconvert_exporter": "python",
   "pygments_lexer": "ipython3",
   "version": "3.9.19"
  }
 },
 "nbformat": 4,
 "nbformat_minor": 5
}
